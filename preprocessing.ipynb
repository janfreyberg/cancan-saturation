{
 "cells": [
  {
   "cell_type": "markdown",
   "metadata": {},
   "source": [
    "# EEG Preprocessing Notebook\n",
    "\n",
    "In this notebook I'll preprocess the data and create new files for resample, reref, etc."
   ]
  },
  {
   "cell_type": "markdown",
   "metadata": {},
   "source": [
    "### Fresh start\n",
    "\n",
    "Clear all and define required variables"
   ]
  },
  {
   "cell_type": "code",
   "execution_count": 1,
   "metadata": {
    "collapsed": false
   },
   "outputs": [
    {
     "name": "stderr",
     "output_type": "stream",
     "text": [
      "\u001b[0;31mUndefined function or variable 'ft_defaults'.\n",
      "\u001b[0m"
     ]
    }
   ],
   "source": [
    "% only run this cell if variables are messed up\n",
    "clearvars;\n",
    "ft_defaults;"
   ]
  },
  {
   "cell_type": "markdown",
   "metadata": {},
   "source": [
    "### Setup\n",
    "\n",
    "The variables required to run this analysis. Always run this cell first, as it also generates the list of files for you!"
   ]
  },
  {
   "cell_type": "code",
   "execution_count": null,
   "metadata": {
    "collapsed": false
   },
   "outputs": [],
   "source": [
    "electrodes = 'all';\n",
    "stimfreq = 5.0;\n",
    "\n",
    "triggers = [16, 32, 64, 100];\n",
    "\n",
    "trialdur = 10.0;\n",
    "discardstart = 0.0;\n",
    "\n",
    "% provide directory of the data files & naming pattern here\n",
    "if exist('C:\\EEG Data\\cancan\\', 'dir')\n",
    "    filedir = 'C:\\EEG Data\\cancan\\';\n",
    "elseif exist('/data/group/FANS/cancan/eeg/', 'dir')\n",
    "    filedir = '/data/group/FANS/cancan/eeg/';\n",
    "end\n",
    "\n",
    "files = dir([filedir, '*sat*.eeg']);\n",
    "\n",
    "for isubject = 1:numel(files)\n",
    "    files(isubject).id = regexprep(files(isubject).name, '(_)', '');\n",
    "    [idstart, idend] = regexp(files(isubject).id, '(\\d+)[ABCabc]');\n",
    "    files(isubject).id = files(isubject).id(idstart:idend);\n",
    "end"
   ]
  },
  {
   "cell_type": "markdown",
   "metadata": {},
   "source": [
    "### Data Analysis Step 1: Defining the trials\n",
    "\n",
    "In this section, the trials are defined."
   ]
  },
  {
   "cell_type": "code",
   "execution_count": null,
   "metadata": {
    "collapsed": false
   },
   "outputs": [],
   "source": [
    "%%capture\n",
    "for isubject = 1:numel(files)\n",
    "    clear prep_data cfg*\n",
    "    \n",
    "    \n",
    "    % Trial Basics\n",
    "    cfg_deftrials.dataset = fullfile(filedir, files(isubject).name);\n",
    "    cfg_deftrials.trialdef.eventtype = 'Toggle';\n",
    "    cfg_deftrials.trialfun = 'ft_trialfun_general';\n",
    "    % Trial Timing\n",
    "    cfg_deftrials.trialdef.prestim = -discardstart;\n",
    "    cfg_deftrials.trialdef.poststim = trialdur;\n",
    "    \n",
    "    trl{isubject} = [];  % initialise to append\n",
    "    for trigger = triggers\n",
    "        cfg_deftrials.trialdef.eventvalue = sprintf('T% 3u', trigger);\n",
    "        disp(sprintf('T% 3u', trigger))\n",
    "        try\n",
    "            tmp = ft_definetrial(cfg_deftrials);\n",
    "        catch\n",
    "            % If triggers are not as expected, skip subject\n",
    "            continue\n",
    "        end\n",
    "        % Manually add the trigger code\n",
    "        tmp.trl(:, 4) = trigger;\n",
    "        trl{isubject} = vertcat(trl{isubject}, tmp.trl);\n",
    "    end\n",
    "\n",
    "end"
   ]
  },
  {
   "cell_type": "markdown",
   "metadata": {},
   "source": [
    "### Data Analysis Step 2: Resampling the data\n",
    "\n",
    "In this section the data gets \"preprocessed\" only to the extent that it's snipped to the right length and resampled. In addition, a 50Hz filter and an extreme lowpass filter is applied."
   ]
  },
  {
   "cell_type": "code",
   "execution_count": null,
   "metadata": {
    "collapsed": false
   },
   "outputs": [],
   "source": [
    "%%capture\n",
    "for isubject = 1:numel(files)\n",
    "    % Skip participant if no trials defined\n",
    "    if isempty(trl{isubject})\n",
    "        continue\n",
    "    end\n",
    "    \n",
    "    % Define the config\n",
    "    cfg{isubject} = [];\n",
    "    % I/O\n",
    "    cfg{isubject}.dataset = fullfile(filedir, files(isubject).name);\n",
    "    cfg{isubject}.outputfile = [fullfile(filedir, files(isubject).name), '.resampled.mat'];\n",
    "    % Details of the trial\n",
    "    cfg{isubject}.trl = trl{isubject}; % previously defined\n",
    "    cfg{isubject}.channel = electrodes; % defined above\n",
    "    cfg{isubject}.demean = 'yes';  % Subtract mean within each trial\n",
    "    cfg{isubject}.detrend = 'yes';  % equivalent to hi-pass filter\n",
    "    cfg{isubject}.reref = 'no'; % done in step 3\n",
    "    cfg{isubject}.lpfilter = 'yes'; % low pass filter\n",
    "    cfg{isubject}.lpfreq = 25;\n",
    "    \n",
    "end\n",
    "\n",
    "% Remove the empty cells so matlab doesn't have a stroke\n",
    "cfg(cellfun(@isempty, cfg)) = [];\n",
    "% Preprocess (in parallel)\n",
    "peercellfun(@ft_preprocessing, cfg);\n",
    "\n",
    "% Resample the data\n",
    "cfg = [];\n",
    "for isubject = 1:numel(files)\n",
    "    \n",
    "    if ~exist([fullfile(filedir, files(isubject).name), '.resampled.mat'], 'file')\n",
    "        continue\n",
    "    end\n",
    "    \n",
    "    \n",
    "    cfg{isubject}.resamplefs = 250;\n",
    "    cfg{isubject}.detrend = 'no';\n",
    "    cfg{isubject}.inputfile = [fullfile(filedir, files(isubject).name), '.resampled.mat'];\n",
    "    cfg{isubject}.outputfile = [fullfile(filedir, files(isubject).name), '.resampled.mat'];\n",
    "end\n",
    "\n",
    "% Remove the empty cells so matlab doesn't have a stroke\n",
    "cfg(cellfun(@isempty, cfg)) = [];\n",
    "% Resample (in parallel)\n",
    "peercellfun(@ft_resampledata, cfg);\n"
   ]
  },
  {
   "cell_type": "markdown",
   "metadata": {},
   "source": [
    "### Preprocessing Step 3: Doing Preliminary frequency analysis\n",
    "\n",
    "Here we do a preliminary FFT analysis, calculate the power in the frequency bands, and then class electrodes as noisy depending on their power spectrum."
   ]
  },
  {
   "cell_type": "code",
   "execution_count": null,
   "metadata": {
    "collapsed": false
   },
   "outputs": [],
   "source": [
    "%%capture\n",
    "for isubject = 1:numel(files)\n",
    "    % Skip participant if no data exists so far\n",
    "    if ~exist([fullfile(filedir, files(isubject).name), '.resampled.mat'], 'file')\n",
    "        continue\n",
    "    end\n",
    "    \n",
    "    % FFT analysis\n",
    "    cfg = [];\n",
    "    cfg.inputfile = [fullfile(filedir, files(isubject).name), '.resampled.mat'];\n",
    "    cfg.output = 'pow';\n",
    "    cfg.method = 'mtmfft';\n",
    "    cfg.foilim = [1, 20];\n",
    "    cfg.tapsmofrq = 1/(cfg_deftrials.trialdef.prestim + cfg_deftrials.trialdef.poststim);\n",
    "    cfg.channel = electrodes;\n",
    "    cfg.keeptrials = 'no';\n",
    "    \n",
    "    % Identify Noisy Channels\n",
    "    noisechannels{isubject} = false([1, 32]);\n",
    "    for i = 1:numel(triggers)\n",
    "        % FFT analysis\n",
    "        trigger = triggers(i);\n",
    "        cfg.trials = trl{isubject}(:, 4)' == trigger;\n",
    "        freq = ft_freqanalysis(cfg);\n",
    "        \n",
    "        % Extra SNR analysis\n",
    "        freq.stimfreq = stimfreq;  % add the stimfreq\n",
    "        freq.harmonics = 2;  % add the harmonic to analyse\n",
    "        freq.noisebins = 20;\n",
    "\n",
    "        snr_data = ssvep_calculate_snr(freq);\n",
    "        snrspectrum = squeeze(permute(ssvep_calculate_all_snr(freq), [2, 3, 1]));\n",
    "        \n",
    "        % anything with crazy high SNRs is a flat channel\n",
    "        noisechannels{isubject} = noisechannels{isubject} | ...\n",
    "                        any(snrspectrum > 200, 2);\n",
    "        % any channels with too much or too little power in the noise band is removed\n",
    "        noisechannels{isubject} = noisechannels{isubject} | ...\n",
    "                        snr_data.noisepow > 15 | snr_data.noisepow <= 0;\n",
    "    end\n",
    "end\n",
    "\n",
    "clear freq, snr_data, snrspectrum"
   ]
  },
  {
   "cell_type": "markdown",
   "metadata": {},
   "source": [
    "### Preprocessing Step 5: Rereferencing\n",
    "\n",
    "Now that we know where the noisy electrodes are, we can rereference without them."
   ]
  },
  {
   "cell_type": "code",
   "execution_count": null,
   "metadata": {
    "collapsed": false
   },
   "outputs": [],
   "source": [
    "%%capture\n",
    "assert(numel(noisechannels)==numel(files), 'did you run the prev cell for noisechannels?')\n",
    "cfg = [];\n",
    "for isubject = 1:numel(files)\n",
    "    % Skip participant if no noisechannel data (was not processed in prev. cell)\n",
    "    if isempty(noisechannels{isubject})\n",
    "        continue\n",
    "    end\n",
    "\n",
    "    cfg{isubject}.inputfile = [fullfile(filedir, files(isubject).name), '.resampled.mat'];\n",
    "    cfg{isubject}.outputfile = [fullfile(filedir, files(isubject).name), '.rereferenced.mat'];\n",
    "    cfg{isubject}.reref = 'yes';\n",
    "    cfg{isubject}.refchannel = fft_data{isubject, i}.label(~noisechannels{isubject});\n",
    "    if numel(fft_data{isubject, i}.label) == 64; cfg{isubject}.channel = 33:64; end\n",
    "\n",
    "end\n",
    "\n",
    "% Remove the empty cells so matlab doesn't have a stroke\n",
    "cfg(cellfun(@isempty, cfg)) = [];\n",
    "% Do the preprocessing (parallel)\n",
    "peercellfun(@ft_preprocessing, cfg);"
   ]
  },
  {
   "cell_type": "markdown",
   "metadata": {},
   "source": [
    "### Time / Frequency Analysis Step 1: Fourier Transfer\n",
    "\n",
    "If you've already pre-processed data above (i.e. there is a file called `*rereferenced.mat` for every of your participants) you can jump straight in here."
   ]
  },
  {
   "cell_type": "code",
   "execution_count": null,
   "metadata": {
    "collapsed": false
   },
   "outputs": [],
   "source": [
    "%%capture\n",
    "cfg = [];\n",
    "for isubject = 1:numel(files)\n",
    "    % Skip participant if no data exists (probably no triggers)\n",
    "    if ~exist([fullfile(filedir, files(isubject).name), '.rereferenced.mat'], 'file'), continue, end\n",
    "    \n",
    "    for i = 1:numel(triggers)\n",
    "        cfg{isubject, i}.inputfile = [fullfile(filedir, files(isubject).name), '.rereferenced.mat'];\n",
    "        cfg{isubject, i}.outputfile = [fullfile(filedir, files(isubject).name), '.fft_', num2str(i), '.mat'];\n",
    "        cfg{isubject, i}.output = 'pow';\n",
    "        cfg{isubject, i}.method = 'mtmfft';\n",
    "        cfg{isubject, i}.foilim = [1, 20];\n",
    "        cfg{isubject, i}.tapsmofrq = 1/(trialdur - discardstart);\n",
    "        cfg{isubject, i}.channel = electrodes;\n",
    "        cfg{isubject, i}.keeptrials = 'no';\n",
    "        cfg{isubject, i}.trials = trl{isubject}(:, 4)' == triggers(i);\n",
    "    end\n",
    "end\n",
    "\n",
    "% Remove any empty cells from cfg\n",
    "cfg(cellfun(@isempty, cfg)) = [];\n",
    "% Do the Freq analysis (in parallel)\n",
    "peercellfun(@ft_freqanalysis, cfg);\n",
    "\n",
    "\n",
    "% Append the data from the four separate freq analyses\n",
    "cfg = [];\n",
    "for isubject = 1:numel(files)\n",
    "    % Skip participant if no data exists (probably no triggers)\n",
    "    if ~exist([fullfile(filedir, files(isubject).name), '.rereferenced.mat'], 'file'), continue, end\n",
    "    \n",
    "    cfg{isubject}.outputfile = [fullfile(filedir, files(isubject).name), '.fft.mat'];\n",
    "    cfg{isubject}.appenddim = 'rpt';\n",
    "    cfg{isubject}.parameter = 'powspctrm';\n",
    "    % Add the four separate input files created above\n",
    "    for i = 1:numel(triggers)\n",
    "        cfg{isubject}.inputfile{i} = [fullfile(filedir, files(isubject).name), '.fft_', num2str(i), '.mat'];\n",
    "    end\n",
    "end\n",
    "\n",
    "peercellfun(@ft_appendfreq, cfg);\n",
    "\n",
    "% Delete the 4 individual files we had previously\n",
    "for isubject = 1:numel(files)\n",
    "    for i = 1:numel(triggers)\n",
    "        \n",
    "    end\n",
    "end\n"
   ]
  },
  {
   "cell_type": "markdown",
   "metadata": {},
   "source": [
    "### Time / Frequency analysis Step 2: Signal to noise ratios\n",
    "\n"
   ]
  },
  {
   "cell_type": "code",
   "execution_count": null,
   "metadata": {
    "collapsed": false
   },
   "outputs": [],
   "source": [
    "for isubject = 1:numel(files)\n",
    "    \n",
    "    if ~exist([fullfile(filedir, files(isubject).name), '.fft.mat'], 'file')\n",
    "        continue\n",
    "    else\n",
    "        freq = getfield(load([fullfile(filedir, files(isubject).name), '.fft.mat']), 'freq');\n",
    "    end\n",
    "    \n",
    "    freq.stimfreq = stimfreq;\n",
    "    freq.harmonics = 2;\n",
    "    freq.noisebins = 20;\n",
    "    % Create the peak SNR values\n",
    "    freq.snr = ssvep_calculate_snr(freq);\n",
    "    % Create an SNR spectrum\n",
    "    freq.snrspectrum = ssvep_calculate_all_snr(freq);\n",
    "    \n",
    "    % Set noisy electrodes to NaNs\n",
    "    for i = 1:numel(triggers)\n",
    "        % freq.powspctrm(i, noisechannels{isubject}, :) = NaN;\n",
    "        freq.snr.snrstimfreq(i, noisechannels{isubject}, :) = NaN;\n",
    "        freq.snr.snrspectrum(i, noisechannels{isubject}, :) = NaN;\n",
    "    end\n",
    "    \n",
    "    % Save this data to file (overriding the previous freq structure with this one)\n",
    "    save([fullfile(filedir, files(isubject).name), '.fft.mat'], 'freq');\n",
    "end"
   ]
  },
  {
   "cell_type": "markdown",
   "metadata": {},
   "source": [
    "### Time / Frequency analysis Step 3: Combine the harmonics and electrodes\n",
    "\n",
    "This uses the SNRs calculated earlier to work out the amplitude of the oscillations."
   ]
  },
  {
   "cell_type": "code",
   "execution_count": null,
   "metadata": {
    "collapsed": true
   },
   "outputs": [],
   "source": [
    "%%capture\n",
    "for isubject = 1:numel(files)\n",
    "    \n",
    "    if ~exist([fullfile(filedir, files(isubject).name), '.fft.mat'], 'file')\n",
    "        continue\n",
    "    else\n",
    "        load([fullfile(filedir, files(isubject).name), '.fft.mat']);\n",
    "    end\n",
    "        \n",
    "    % Calculate weighted amplitude\n",
    "    freq.weightedamplitude = ssvep_combine_harmonic_amplitudes(freq);\n",
    "    \n",
    "    % calculate a weighted average by electrode\n",
    "    freq.crosselecestimate = ssvep_combine_electrodes(freq);\n",
    "    \n",
    "    % Save the file again\n",
    "    save([fullfile(filedir, files(isubject).name), '.fft.mat'], 'freq');\n",
    "    \n",
    "    % find the maximal signal electrode on average\n",
    "    [~, maxelec] = max(mean(freq.snr.snrstimfreq(:, :), 1), [], 2);\n",
    "end"
   ]
  },
  {
   "cell_type": "markdown",
   "metadata": {},
   "source": [
    "### Create a Results Table\n",
    "\n",
    "The results from the previous three steps can be written to a CSV file in this loop."
   ]
  },
  {
   "cell_type": "code",
   "execution_count": null,
   "metadata": {
    "collapsed": false
   },
   "outputs": [],
   "source": [
    "%%capture\n",
    "data_maxelec = NaN([numel(files), numel(triggers)]);\n",
    "data_allelec = NaN([numel(files), numel(triggers)]);\n",
    "for isubject = 1:numel(files)\n",
    "    \n",
    "    if ~exist([fullfile(filedir, files(isubject).name), '.fft.mat'], 'file')\n",
    "        continue\n",
    "    else\n",
    "        load([fullfile(filedir, files(isubject).name), '.fft.mat']);\n",
    "    end\n",
    "    \n",
    "    [~, maxelec] = max(mean(freq.snr.snrstimfreq(:, :), 1), [], 2);\n",
    "    data_maxelec(isubject, 1:4) = freq.weightedamplitude(1:4, maxelec);\n",
    "    data_allelec(isubject, 1:4) = freq.crosselecestimate;\n",
    "end\n",
    "\n",
    "% Initialise a table\n",
    "allresults = table();\n",
    "allresults.ID = {files(:).id}';\n",
    "\n",
    "% Add the data to the table\n",
    "for i = 1:numel(triggers)\n",
    "    allresults.(['maxelec_', num2str(triggers(i))]) = data_maxelec(:, i);\n",
    "    allresults.(['allelec_', num2str(triggers(i))]) = data_allelec(:, i);\n",
    "end"
   ]
  },
  {
   "cell_type": "markdown",
   "metadata": {
    "collapsed": true
   },
   "source": [
    "### Write to file\n",
    "\n",
    "Save the results table as a CSV file."
   ]
  },
  {
   "cell_type": "code",
   "execution_count": null,
   "metadata": {
    "collapsed": true
   },
   "outputs": [],
   "source": [
    "writetable(allresults, [date, '-allresults.csv'], 'Delimiter', ',');"
   ]
  },
  {
   "cell_type": "markdown",
   "metadata": {},
   "source": [
    "### Final Analysis Step 1: Grand Average\n",
    "\n"
   ]
  },
  {
   "cell_type": "code",
   "execution_count": null,
   "metadata": {
    "collapsed": false
   },
   "outputs": [],
   "source": [
    "%%capture\n",
    "cfg = [];\n",
    "cfg.keepindividual = 'no';\n",
    "cfg.parameter = {'powspctrm', 'weightedamplitude', 'snrspectrum'};\n",
    "\n",
    "for isubject = 1:numel(files)\n",
    "    % cfg.inputfile{isubject} = [fullfile(filedir, files(isubject).name), '.fft.mat'];\n",
    "end\n",
    "\n",
    "for i = 1:numel(triggers)\n",
    "    cfg.trials = false([1, numel(triggers)]);\n",
    "    cfg.trials(i) = true;\n",
    "    cfg.avgoverrpt = 'yes';\n",
    "    for isubject = 1:numel(files)\n",
    "        fftdata{isubject} = getfield(load([fullfile(filedir, files(isubject).name), '.fft.mat']), 'freq');\n",
    "        fftdata{isubject}.weightedamplitude = repmat(fftdata{isubject}.weightedamplitude, [1, 1, 191]);\n",
    "        fftdata{isubject} = ft_selectdata(cfg, fftdata{isubject});\n",
    "    end\n",
    "    cfg.outputfile = fullfile(filedir, ['saturation_grandav_', num2str(triggers(i)), '.mat']);\n",
    "    \n",
    "    % remove empty cells (people who didn't have triggers)\n",
    "    fftdata(cellfun('isempty', fftdata)) = [];\n",
    "    % do the grand average\n",
    "    ft_freqgrandaverage(cfg, fftdata{:});\n",
    "end"
   ]
  },
  {
   "cell_type": "markdown",
   "metadata": {},
   "source": [
    "### Final Analysis Step 2: Topoplot of SNR\n",
    "\n",
    "Check where the SNR is distributed"
   ]
  },
  {
   "cell_type": "code",
   "execution_count": null,
   "metadata": {
    "collapsed": false,
    "scrolled": false
   },
   "outputs": [],
   "source": [
    "%plot -s 800,800\n",
    "\n",
    "figure;\n",
    "cfg = [];\n",
    "cfg.xlim = [4.9, 5.1];\n",
    "cfg.parameter = 'weightedamplitude';\n",
    "% cfg.zlim = [0, 5];\n",
    "cfg.layout = 'biosemi64.lay';\n",
    "\n",
    "for i = 1:numel(triggers)\n",
    "    subplot(2, 2, i);\n",
    "    data = getfield(load(fullfile(filedir, ['saturation_grandav_', num2str(triggers(i)), '.mat'])), 'grandavg');\n",
    "    \n",
    "    ft_topoplotTFR(cfg, data);\n",
    "    colormap parula\n",
    "end"
   ]
  }
 ],
 "metadata": {
  "kernelspec": {
   "display_name": "Matlab",
   "language": "matlab",
   "name": "matlab"
  },
  "language_info": {
   "codemirror_mode": "octave",
   "file_extension": ".m",
   "help_links": [
    {
     "text": "MetaKernel Magics",
     "url": "https://github.com/calysto/metakernel/blob/master/metakernel/magics/README.md"
    }
   ],
   "mimetype": "text/x-octave",
   "name": "matlab",
   "version": "0.11.0"
  }
 },
 "nbformat": 4,
 "nbformat_minor": 2
}
