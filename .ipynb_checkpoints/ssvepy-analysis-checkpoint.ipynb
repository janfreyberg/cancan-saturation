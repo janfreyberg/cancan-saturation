{
 "cells": [
  {
   "cell_type": "code",
   "execution_count": null,
   "metadata": {},
   "outputs": [],
   "source": [
    "import mne\n",
    "\n",
    "import ssvepy\n",
    "\n",
    "from autoreject import Ransac\n",
    "\n",
    "import numpy as np\n",
    "import matplotlib.pyplot as plt\n",
    "import pandas as pd\n",
    "\n",
    "import os\n",
    "import glob\n",
    "import re\n",
    "import collections\n",
    "from datetime import date\n",
    "\n",
    "from tqdm import tqdm_notebook as tqdm\n",
    "from ipywidgets import interact\n",
    "\n",
    "mne.utils.set_log_level('WARNING')"
   ]
  },
  {
   "cell_type": "code",
   "execution_count": null,
   "metadata": {
    "collapsed": true
   },
   "outputs": [],
   "source": [
    "if os.path.isdir('/Users/jan/Documents/eeg-data/cancan-saturation/'):\n",
    "    datafolder = '/Users/jan/Documents/eeg-data/cancan-saturation/'  # on laptop\n",
    "elif os.path.isdir('/data/group/FANS/cancan/eeg/'):\n",
    "    datafolder = '/data/group/FANS/cancan/eeg/'  # On NaN\n",
    "\n",
    "files = glob.glob(datafolder + '*saturation*.vhdr')"
   ]
  },
  {
   "cell_type": "code",
   "execution_count": null,
   "metadata": {},
   "outputs": [],
   "source": [
    "ids = []\n",
    "visits = []\n",
    "\n",
    "for idx, file in enumerate(files):\n",
    "    m = re.search('(\\d+)[ABCabc]', file)\n",
    "    ids.append(file[m.start():(m.end()-1)])\n",
    "    visits.append(file[m.end()-1])\n"
   ]
  },
  {
   "cell_type": "code",
   "execution_count": null,
   "metadata": {},
   "outputs": [],
   "source": [
    "raws = [mne.io.read_raw_brainvision(file, event_id={'DCC': 199, 'actiCAP Data On': 200},\n",
    "                                    montage=mne.channels.read_montage('standard_1020'))\n",
    "        for file in files]"
   ]
  },
  {
   "cell_type": "code",
   "execution_count": null,
   "metadata": {},
   "outputs": [],
   "source": [
    "for idx, _ in enumerate(raws):\n",
    "    raws[idx].info['subject_info'] = ids[idx] + visits[idx]"
   ]
  },
  {
   "cell_type": "code",
   "execution_count": null,
   "metadata": {},
   "outputs": [],
   "source": [
    "epochs = [[mne.Epochs(raw,\n",
    "                      mne.find_events(raw),\n",
    "                      event_id=event,\n",
    "                      tmin=0, tmax=10,\n",
    "                      picks=mne.pick_types(raw.info, eeg=True))\n",
    "           for event in [16, 32, 64, 100]]\n",
    "          for raw in tqdm(raws, desc='Subject')]"
   ]
  },
  {
   "cell_type": "code",
   "execution_count": null,
   "metadata": {},
   "outputs": [],
   "source": [
    "for subject in tqdm(epochs):\n",
    "    for epoch in subject:\n",
    "        epoch.load_data()\n",
    "        epoch.resample(256)\n"
   ]
  },
  {
   "cell_type": "code",
   "execution_count": null,
   "metadata": {},
   "outputs": [],
   "source": [
    "%%capture\n",
    "# Clean the data using autoreject's ransac\n",
    "cleaners = [Ransac(verbose='tqdm_notebook') for raw in raws]\n",
    "\n",
    "cleanepochs = [[cleaner.fit_transform(epoch) for epoch in epochlist]\n",
    "               for epochlist, cleaner in tqdm(zip(epochs, cleaners), desc='Subjects')]"
   ]
  },
  {
   "cell_type": "code",
   "execution_count": null,
   "metadata": {},
   "outputs": [],
   "source": [
    "%%capture\n",
    "ssveps = [[ssvepy.Ssvep(epoch, 5.0, fmin=2, fmax=30) for epoch in epochlist]\n",
    "           for epochlist in tqdm(cleanepochs)]"
   ]
  },
  {
   "cell_type": "code",
   "execution_count": null,
   "metadata": {
    "scrolled": true
   },
   "outputs": [],
   "source": [
    "occipital_indices = [raws[0].ch_names.index(ch)\n",
    "                     for ch in ['Oz', 'O1', 'O2', 'POz']]\n",
    "\n",
    "dataarrays = collections.OrderedDict()\n",
    "\n",
    "# Aggregate the amp from the occ. electrode with max SNR\n",
    "dataarrays['maxamp_occipital'] = np.zeros((len(ssveps), len(ssveps[0])))\n",
    "for subject, ssveplist in enumerate(ssveps):\n",
    "    maxelec = np.nanargmax(np.stack(\n",
    "            [ssvep.stimulation.snr[:, occipital_indices].mean(axis=0) for ssvep in ssveplist], axis=-1\n",
    "        ).mean(axis=-1))\n",
    "    maxelec = occipital_indices[maxelec]\n",
    "    for condition, ssvep in enumerate(ssveplist):\n",
    "        dataarrays['maxamp_occipital'][subject, condition] = ssvep.stimulation.power[:, maxelec].mean()\n",
    "\n",
    "# Aggregate the amp from the electrode with overall max SNR\n",
    "dataarrays['maxamp_all'] = np.zeros((len(ssveps), len(ssveps[0])))\n",
    "for subject, ssveplist in enumerate(ssveps):\n",
    "    maxelec = np.nanargmax(np.stack(\n",
    "            [ssvep.stimulation.snr.mean(axis=0) for ssvep in ssveplist], axis=-1\n",
    "        ).mean(axis=-1))\n",
    "    for condition, ssvep in enumerate(ssveplist):\n",
    "        dataarrays['maxamp_all'][subject, condition] = ssvep.stimulation.power[:, maxelec].mean()\n",
    "\n",
    "# Get the average SNR at the occipital electrodes\n",
    "dataarrays['avsnr_occipital'] = np.zeros((len(ssveps), len(ssveps[0])))\n",
    "for subject, ssveplist in enumerate(ssveps):\n",
    "    for condition, ssvep in enumerate(ssveplist):\n",
    "        dataarrays['avsnr_occipital'][subject, condition] = np.nanmean(ssvep.stimulation.snr[:, occipital_indices])\n",
    "\n",
    "# amplitude average weighted by snr, all electrodes\n",
    "datatype = 'weightedamp_all'\n",
    "dataarrays[datatype] = np.zeros((len(ssveps), len(ssveps[0])))\n",
    "for subject, ssveplist in enumerate(ssveps):\n",
    "    for condition, ssvep in enumerate(ssveplist):\n",
    "        # create a masked array\n",
    "        tmpdata = np.squeeze(np.ma.array(ssvep.stimulation.power, mask=np.isnan(ssvep.stimulation.power)))\n",
    "        # remove outliers\n",
    "        tmpdata[np.abs(tmpdata - tmpdata.mean()) > 4*np.std(tmpdata)] = np.ma.masked\n",
    "        #\n",
    "        dataarrays[datatype][subject, condition] = np.nanmean(\n",
    "            np.ma.average(tmpdata, weights=np.fmax(ssvep.stimulation.snr, 0))\n",
    "        )\n"
   ]
  },
  {
   "cell_type": "code",
   "execution_count": null,
   "metadata": {},
   "outputs": [],
   "source": [
    "dataarrays['weightedamp_all']"
   ]
  },
  {
   "cell_type": "markdown",
   "metadata": {},
   "source": [
    "## Save data to CSV file"
   ]
  },
  {
   "cell_type": "code",
   "execution_count": null,
   "metadata": {},
   "outputs": [],
   "source": [
    "# Construct the columns for pandas\n",
    "\n",
    "datadict = collections.OrderedDict()  # nice to have order\n",
    "datadict['id'] = ids\n",
    "datadict['visit'] = visits\n",
    "for label, data in dataarrays.items():\n",
    "    for idx, condition in enumerate([16, 32, 64, 100]):\n",
    "        datadict[label + '_' + str(condition)] = data[:, idx]\n",
    "\n",
    "df = pd.DataFrame(datadict)\n",
    "\n",
    "df.to_csv(date.today().strftime('%Y-%m-%d') + '_alldata.csv')"
   ]
  },
  {
   "cell_type": "code",
   "execution_count": null,
   "metadata": {},
   "outputs": [],
   "source": [
    "df"
   ]
  }
 ],
 "metadata": {
  "kernelspec": {
   "display_name": "Python 3",
   "language": "python",
   "name": "python3"
  },
  "language_info": {
   "codemirror_mode": {
    "name": "ipython",
    "version": 3
   },
   "file_extension": ".py",
   "mimetype": "text/x-python",
   "name": "python",
   "nbconvert_exporter": "python",
   "pygments_lexer": "ipython3",
   "version": "3.6.0"
  }
 },
 "nbformat": 4,
 "nbformat_minor": 2
}
