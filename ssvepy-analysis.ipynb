{
 "cells": [
  {
   "cell_type": "code",
   "execution_count": 1,
   "metadata": {
    "collapsed": false,
    "deletable": true,
    "editable": true
   },
   "outputs": [
    {
     "name": "stderr",
     "output_type": "stream",
     "text": [
      "/software/system/anaconda/3.5/lib/python3.5/site-packages/sklearn/cross_validation.py:44: DeprecationWarning: This module was deprecated in version 0.18 in favor of the model_selection module into which all the refactored classes and functions are moved. Also note that the interface of the new CV iterators are different from that of this module. This module will be removed in 0.20.\n",
      "  \"This module will be removed in 0.20.\", DeprecationWarning)\n"
     ]
    }
   ],
   "source": [
    "import mne\n",
    "\n",
    "import ssvepy\n",
    "\n",
    "from autoreject import Ransac\n",
    "\n",
    "import numpy as np\n",
    "import matplotlib.pyplot as plt\n",
    "import pandas as pd\n",
    "\n",
    "import os\n",
    "import glob\n",
    "import re\n",
    "import collections\n",
    "from datetime import date\n",
    "\n",
    "from tqdm import tqdm_notebook as tqdm\n",
    "from ipywidgets import interact\n",
    "\n",
    "mne.utils.set_log_level('WARNING')"
   ]
  },
  {
   "cell_type": "code",
   "execution_count": 2,
   "metadata": {
    "collapsed": true,
    "deletable": true,
    "editable": true
   },
   "outputs": [],
   "source": [
    "if os.path.isdir('/Users/jan/Documents/eeg-data/cancan-saturation/'):\n",
    "    datafolder = '/Users/jan/Documents/eeg-data/cancan-saturation/'  # on laptop\n",
    "elif os.path.isdir('/data/group/FANS/cancan/eeg/'):\n",
    "    datafolder = '/data/group/FANS/cancan/eeg/'  # On NaN\n",
    "\n",
    "files = glob.glob(datafolder + '*saturation*.vhdr')"
   ]
  },
  {
   "cell_type": "code",
   "execution_count": 73,
   "metadata": {
    "collapsed": false,
    "deletable": true,
    "editable": true
   },
   "outputs": [],
   "source": [
    "ids = []\n",
    "visits = []\n",
    "\n",
    "for idx, file in enumerate(files):\n",
    "    m = re.search('(\\d+)[_-]*([ABCabc])', file)\n",
    "    if m:\n",
    "        ids.append(m.group(1)[-3:].zfill(3))\n",
    "        visits.append(m.group(2).lower())\n",
    "    else:\n",
    "        print(m.group(2))\n"
   ]
  },
  {
   "cell_type": "code",
   "execution_count": 74,
   "metadata": {
    "collapsed": false,
    "deletable": true,
    "editable": true
   },
   "outputs": [],
   "source": [
    "raws = [mne.io.read_raw_brainvision(file, event_id={'DCC': 199, 'actiCAP Data On': 200},\n",
    "                                    montage=mne.channels.read_montage('standard_1020'))\n",
    "        for file in files]\n",
    "\n",
    "for idx, _ in enumerate(raws):\n",
    "    raws[idx].info['subject_info'] = ids[idx] + visits[idx]"
   ]
  },
  {
   "cell_type": "code",
   "execution_count": 76,
   "metadata": {
    "collapsed": false,
    "deletable": true,
    "editable": true
   },
   "outputs": [
    {
     "name": "stdout",
     "output_type": "stream",
     "text": [
      "\n"
     ]
    }
   ],
   "source": [
    "# Identify Epochs.\n",
    "# this discards all files that hold no\n",
    "# events (trigger cable not connected -.-)\n",
    "\n",
    "epochs = [[mne.Epochs(raw,\n",
    "                      mne.find_events(raw),\n",
    "                      event_id=event,\n",
    "                      tmin=0, tmax=10,\n",
    "                      picks=mne.pick_types(raw.info, eeg=True))\n",
    "           for event in [16, 32, 64, 100]]\n",
    "          for raw in tqdm(raws, desc='Subject')\n",
    "          if np.in1d([16, 32, 64, 100], mne.find_events(raw)).all()]"
   ]
  },
  {
   "cell_type": "code",
   "execution_count": 77,
   "metadata": {
    "collapsed": false,
    "deletable": true,
    "editable": true
   },
   "outputs": [
    {
     "name": "stdout",
     "output_type": "stream",
     "text": [
      "\n"
     ]
    }
   ],
   "source": [
    "for subject in tqdm(epochs):\n",
    "    for epoch in subject:\n",
    "        epoch.load_data()\n",
    "        epoch.resample(256)\n"
   ]
  },
  {
   "cell_type": "code",
   "execution_count": 78,
   "metadata": {
    "collapsed": true,
    "deletable": true,
    "editable": true
   },
   "outputs": [],
   "source": [
    "%%capture\n",
    "# Clean the data using autoreject's ransac\n",
    "cleaners = [Ransac(verbose=False) for raw in raws]\n",
    "\n",
    "cleanepochs = [[cleaner.fit_transform(epoch) for epoch in epochlist]\n",
    "               for epochlist, cleaner in zip(tqdm(epochs), cleaners)]"
   ]
  },
  {
   "cell_type": "code",
   "execution_count": 79,
   "metadata": {
    "collapsed": true,
    "deletable": true,
    "editable": true
   },
   "outputs": [],
   "source": [
    "%%capture\n",
    "ssveps = [[ssvepy.Ssvep(epoch, 5.0, fmin=2, fmax=30) for epoch in epochlist]\n",
    "           for epochlist in tqdm(cleanepochs)]"
   ]
  },
  {
   "cell_type": "code",
   "execution_count": 85,
   "metadata": {
    "collapsed": false,
    "deletable": true,
    "editable": true,
    "scrolled": true
   },
   "outputs": [
    {
     "name": "stderr",
     "output_type": "stream",
     "text": [
      "/software/system/anaconda/3.5/lib/python3.5/site-packages/numpy/lib/nanfunctions.py:703: RuntimeWarning: Mean of empty slice\n",
      "  warnings.warn(\"Mean of empty slice\", RuntimeWarning)\n",
      "/software/system/anaconda/3.5/lib/python3.5/site-packages/numpy/lib/nanfunctions.py:703: RuntimeWarning: Mean of empty slice\n",
      "  warnings.warn(\"Mean of empty slice\", RuntimeWarning)\n",
      "/software/system/anaconda/3.5/lib/python3.5/site-packages/numpy/lib/nanfunctions.py:703: RuntimeWarning: Mean of empty slice\n",
      "  warnings.warn(\"Mean of empty slice\", RuntimeWarning)\n",
      "/software/system/anaconda/3.5/lib/python3.5/site-packages/numpy/lib/nanfunctions.py:703: RuntimeWarning: Mean of empty slice\n",
      "  warnings.warn(\"Mean of empty slice\", RuntimeWarning)\n",
      "/software/system/anaconda/3.5/lib/python3.5/site-packages/numpy/lib/nanfunctions.py:703: RuntimeWarning: Mean of empty slice\n",
      "  warnings.warn(\"Mean of empty slice\", RuntimeWarning)\n",
      "/software/system/anaconda/3.5/lib/python3.5/site-packages/numpy/lib/nanfunctions.py:703: RuntimeWarning: Mean of empty slice\n",
      "  warnings.warn(\"Mean of empty slice\", RuntimeWarning)\n",
      "/software/system/anaconda/3.5/lib/python3.5/site-packages/numpy/lib/nanfunctions.py:703: RuntimeWarning: Mean of empty slice\n",
      "  warnings.warn(\"Mean of empty slice\", RuntimeWarning)\n",
      "/software/system/anaconda/3.5/lib/python3.5/site-packages/numpy/lib/nanfunctions.py:703: RuntimeWarning: Mean of empty slice\n",
      "  warnings.warn(\"Mean of empty slice\", RuntimeWarning)\n",
      "/software/system/anaconda/3.5/lib/python3.5/site-packages/numpy/lib/nanfunctions.py:703: RuntimeWarning: Mean of empty slice\n",
      "  warnings.warn(\"Mean of empty slice\", RuntimeWarning)\n",
      "/software/system/anaconda/3.5/lib/python3.5/site-packages/numpy/lib/nanfunctions.py:703: RuntimeWarning: Mean of empty slice\n",
      "  warnings.warn(\"Mean of empty slice\", RuntimeWarning)\n",
      "/software/system/anaconda/3.5/lib/python3.5/site-packages/numpy/lib/nanfunctions.py:703: RuntimeWarning: Mean of empty slice\n",
      "  warnings.warn(\"Mean of empty slice\", RuntimeWarning)\n",
      "/software/system/anaconda/3.5/lib/python3.5/site-packages/numpy/lib/nanfunctions.py:703: RuntimeWarning: Mean of empty slice\n",
      "  warnings.warn(\"Mean of empty slice\", RuntimeWarning)\n",
      "/software/system/anaconda/3.5/lib/python3.5/site-packages/numpy/lib/nanfunctions.py:703: RuntimeWarning: Mean of empty slice\n",
      "  warnings.warn(\"Mean of empty slice\", RuntimeWarning)\n",
      "/software/system/anaconda/3.5/lib/python3.5/site-packages/numpy/lib/nanfunctions.py:703: RuntimeWarning: Mean of empty slice\n",
      "  warnings.warn(\"Mean of empty slice\", RuntimeWarning)\n",
      "/software/system/anaconda/3.5/lib/python3.5/site-packages/numpy/lib/nanfunctions.py:703: RuntimeWarning: Mean of empty slice\n",
      "  warnings.warn(\"Mean of empty slice\", RuntimeWarning)\n",
      "/software/system/anaconda/3.5/lib/python3.5/site-packages/numpy/lib/nanfunctions.py:703: RuntimeWarning: Mean of empty slice\n",
      "  warnings.warn(\"Mean of empty slice\", RuntimeWarning)\n",
      "/software/system/anaconda/3.5/lib/python3.5/site-packages/numpy/lib/nanfunctions.py:703: RuntimeWarning: Mean of empty slice\n",
      "  warnings.warn(\"Mean of empty slice\", RuntimeWarning)\n"
     ]
    }
   ],
   "source": [
    "occipital_indices = [raws[0].ch_names.index(ch)\n",
    "                     for ch in ['Oz', 'O1', 'O2', 'POz']]\n",
    "\n",
    "dataarrays = collections.OrderedDict()\n",
    "\n",
    "# Aggregate the amp from the occ. electrode with max SNR\n",
    "dataarrays['maxamp_occipital'] = np.zeros((len(ssveps), len(ssveps[0])))\n",
    "for subject, ssveplist in enumerate(ssveps):\n",
    "    try:\n",
    "        maxelec = np.nanargmax(np.stack(\n",
    "                [ssvep.stimulation.snr[:, occipital_indices].mean(axis=0) for ssvep in ssveplist], axis=-1\n",
    "            ).mean(axis=-1))\n",
    "        maxelec = occipital_indices[maxelec]\n",
    "    except ValueError:\n",
    "        maxelec = None\n",
    "    for condition, ssvep in enumerate(ssveplist):\n",
    "        dataarrays['maxamp_occipital'][subject, condition] = ssvep.stimulation.power[:, maxelec].mean()\n",
    "\n",
    "# Aggregate the amp from the electrode with overall max SNR\n",
    "dataarrays['maxamp_all'] = np.zeros((len(ssveps), len(ssveps[0])))\n",
    "for subject, ssveplist in enumerate(ssveps):\n",
    "    maxelec = np.nanargmax(np.stack(\n",
    "            [ssvep.stimulation.snr.mean(axis=0) for ssvep in ssveplist], axis=-1\n",
    "        ).mean(axis=-1))\n",
    "    for condition, ssvep in enumerate(ssveplist):\n",
    "        dataarrays['maxamp_all'][subject, condition] = ssvep.stimulation.power[:, maxelec].mean()\n",
    "\n",
    "# Get the average SNR at the occipital electrodes\n",
    "dataarrays['avsnr_occipital'] = np.zeros((len(ssveps), len(ssveps[0])))\n",
    "for subject, ssveplist in enumerate(ssveps):\n",
    "    for condition, ssvep in enumerate(ssveplist):\n",
    "        dataarrays['avsnr_occipital'][subject, condition] = np.nanmean(ssvep.stimulation.snr[:, occipital_indices])\n"
   ]
  },
  {
   "cell_type": "markdown",
   "metadata": {
    "deletable": true,
    "editable": true
   },
   "source": [
    "## Save data to CSV file"
   ]
  },
  {
   "cell_type": "code",
   "execution_count": 86,
   "metadata": {
    "collapsed": false,
    "deletable": true,
    "editable": true
   },
   "outputs": [
    {
     "data": {
      "text/html": [
       "<div>\n",
       "<table border=\"1\" class=\"dataframe\">\n",
       "  <thead>\n",
       "    <tr style=\"text-align: right;\">\n",
       "      <th></th>\n",
       "      <th>id</th>\n",
       "      <th>visit</th>\n",
       "      <th>maxamp_occipital_16</th>\n",
       "      <th>maxamp_occipital_32</th>\n",
       "      <th>maxamp_occipital_64</th>\n",
       "      <th>maxamp_occipital_100</th>\n",
       "      <th>maxamp_all_16</th>\n",
       "      <th>maxamp_all_32</th>\n",
       "      <th>maxamp_all_64</th>\n",
       "      <th>maxamp_all_100</th>\n",
       "      <th>avsnr_occipital_16</th>\n",
       "      <th>avsnr_occipital_32</th>\n",
       "      <th>avsnr_occipital_64</th>\n",
       "      <th>avsnr_occipital_100</th>\n",
       "    </tr>\n",
       "  </thead>\n",
       "  <tbody>\n",
       "    <tr>\n",
       "      <th>0</th>\n",
       "      <td>017</td>\n",
       "      <td>c</td>\n",
       "      <td>1.886948e-09</td>\n",
       "      <td>1.311694e-09</td>\n",
       "      <td>2.639809e-09</td>\n",
       "      <td>1.642056e-09</td>\n",
       "      <td>1.886948e-09</td>\n",
       "      <td>1.311694e-09</td>\n",
       "      <td>2.639809e-09</td>\n",
       "      <td>1.642056e-09</td>\n",
       "      <td>1.615369</td>\n",
       "      <td>1.496006</td>\n",
       "      <td>1.805192</td>\n",
       "      <td>1.359867</td>\n",
       "    </tr>\n",
       "    <tr>\n",
       "      <th>1</th>\n",
       "      <td>110</td>\n",
       "      <td>a</td>\n",
       "      <td>1.947913e-09</td>\n",
       "      <td>5.757273e-09</td>\n",
       "      <td>1.169274e-09</td>\n",
       "      <td>1.120803e-09</td>\n",
       "      <td>1.858458e-10</td>\n",
       "      <td>6.043818e-10</td>\n",
       "      <td>1.271451e-10</td>\n",
       "      <td>2.028098e-10</td>\n",
       "      <td>0.984805</td>\n",
       "      <td>0.748223</td>\n",
       "      <td>0.935111</td>\n",
       "      <td>1.220182</td>\n",
       "    </tr>\n",
       "    <tr>\n",
       "      <th>2</th>\n",
       "      <td>109</td>\n",
       "      <td>c</td>\n",
       "      <td>1.182881e-09</td>\n",
       "      <td>1.258869e-09</td>\n",
       "      <td>1.163593e-09</td>\n",
       "      <td>9.259463e-10</td>\n",
       "      <td>7.125155e-10</td>\n",
       "      <td>8.453512e-10</td>\n",
       "      <td>8.079321e-10</td>\n",
       "      <td>7.120175e-10</td>\n",
       "      <td>1.215010</td>\n",
       "      <td>1.225470</td>\n",
       "      <td>1.267641</td>\n",
       "      <td>0.868515</td>\n",
       "    </tr>\n",
       "    <tr>\n",
       "      <th>3</th>\n",
       "      <td>117</td>\n",
       "      <td>b</td>\n",
       "      <td>4.199994e-09</td>\n",
       "      <td>3.110587e-09</td>\n",
       "      <td>5.351551e-09</td>\n",
       "      <td>4.073291e-09</td>\n",
       "      <td>4.199994e-09</td>\n",
       "      <td>3.110587e-09</td>\n",
       "      <td>5.351551e-09</td>\n",
       "      <td>4.073291e-09</td>\n",
       "      <td>1.598675</td>\n",
       "      <td>1.471255</td>\n",
       "      <td>1.965310</td>\n",
       "      <td>1.764413</td>\n",
       "    </tr>\n",
       "    <tr>\n",
       "      <th>4</th>\n",
       "      <td>018</td>\n",
       "      <td>b</td>\n",
       "      <td>2.075330e-09</td>\n",
       "      <td>8.368422e-10</td>\n",
       "      <td>2.237206e-09</td>\n",
       "      <td>1.679443e-09</td>\n",
       "      <td>1.942377e-09</td>\n",
       "      <td>2.043292e-09</td>\n",
       "      <td>2.364269e-09</td>\n",
       "      <td>1.413356e-09</td>\n",
       "      <td>1.170906</td>\n",
       "      <td>1.140167</td>\n",
       "      <td>1.280196</td>\n",
       "      <td>1.210132</td>\n",
       "    </tr>\n",
       "    <tr>\n",
       "      <th>5</th>\n",
       "      <td>004</td>\n",
       "      <td>b</td>\n",
       "      <td>6.976483e-10</td>\n",
       "      <td>6.404484e-10</td>\n",
       "      <td>6.155652e-10</td>\n",
       "      <td>8.540354e-10</td>\n",
       "      <td>4.032217e-10</td>\n",
       "      <td>3.297790e-10</td>\n",
       "      <td>3.732939e-10</td>\n",
       "      <td>3.322946e-10</td>\n",
       "      <td>1.300475</td>\n",
       "      <td>1.042961</td>\n",
       "      <td>1.012387</td>\n",
       "      <td>1.332535</td>\n",
       "    </tr>\n",
       "    <tr>\n",
       "      <th>6</th>\n",
       "      <td>002</td>\n",
       "      <td>c</td>\n",
       "      <td>2.639706e-09</td>\n",
       "      <td>2.320391e-09</td>\n",
       "      <td>2.641758e-09</td>\n",
       "      <td>2.343579e-09</td>\n",
       "      <td>5.713987e-11</td>\n",
       "      <td>5.201326e-11</td>\n",
       "      <td>1.080859e-10</td>\n",
       "      <td>8.001559e-11</td>\n",
       "      <td>1.420628</td>\n",
       "      <td>1.800495</td>\n",
       "      <td>1.685467</td>\n",
       "      <td>1.460328</td>\n",
       "    </tr>\n",
       "    <tr>\n",
       "      <th>7</th>\n",
       "      <td>111</td>\n",
       "      <td>a</td>\n",
       "      <td>3.643916e-10</td>\n",
       "      <td>3.518915e-10</td>\n",
       "      <td>4.620400e-10</td>\n",
       "      <td>4.455454e-10</td>\n",
       "      <td>1.605201e-09</td>\n",
       "      <td>1.752863e-09</td>\n",
       "      <td>1.736696e-09</td>\n",
       "      <td>3.073524e-09</td>\n",
       "      <td>1.043904</td>\n",
       "      <td>1.012891</td>\n",
       "      <td>1.168637</td>\n",
       "      <td>1.179908</td>\n",
       "    </tr>\n",
       "    <tr>\n",
       "      <th>8</th>\n",
       "      <td>019</td>\n",
       "      <td>b</td>\n",
       "      <td>2.765936e-09</td>\n",
       "      <td>3.190180e-09</td>\n",
       "      <td>1.993672e-09</td>\n",
       "      <td>2.067899e-09</td>\n",
       "      <td>2.765936e-09</td>\n",
       "      <td>3.190180e-09</td>\n",
       "      <td>1.993672e-09</td>\n",
       "      <td>2.067899e-09</td>\n",
       "      <td>1.370249</td>\n",
       "      <td>1.126160</td>\n",
       "      <td>0.987119</td>\n",
       "      <td>0.780182</td>\n",
       "    </tr>\n",
       "    <tr>\n",
       "      <th>9</th>\n",
       "      <td>104</td>\n",
       "      <td>a</td>\n",
       "      <td>8.312188e-10</td>\n",
       "      <td>7.409420e-10</td>\n",
       "      <td>8.172004e-10</td>\n",
       "      <td>1.371840e-09</td>\n",
       "      <td>5.383580e-10</td>\n",
       "      <td>6.291586e-10</td>\n",
       "      <td>6.934458e-10</td>\n",
       "      <td>9.620184e-10</td>\n",
       "      <td>1.174490</td>\n",
       "      <td>0.894938</td>\n",
       "      <td>1.152100</td>\n",
       "      <td>1.551080</td>\n",
       "    </tr>\n",
       "    <tr>\n",
       "      <th>10</th>\n",
       "      <td>001</td>\n",
       "      <td>c</td>\n",
       "      <td>8.433587e-12</td>\n",
       "      <td>1.590789e-09</td>\n",
       "      <td>1.078708e-11</td>\n",
       "      <td>1.510044e-09</td>\n",
       "      <td>1.342519e-09</td>\n",
       "      <td>1.593397e-09</td>\n",
       "      <td>1.412387e-09</td>\n",
       "      <td>1.458417e-09</td>\n",
       "      <td>0.930549</td>\n",
       "      <td>1.235694</td>\n",
       "      <td>1.188521</td>\n",
       "      <td>1.239457</td>\n",
       "    </tr>\n",
       "    <tr>\n",
       "      <th>11</th>\n",
       "      <td>108</td>\n",
       "      <td>a</td>\n",
       "      <td>6.146599e-10</td>\n",
       "      <td>4.550301e-10</td>\n",
       "      <td>3.211697e-10</td>\n",
       "      <td>2.083989e-10</td>\n",
       "      <td>4.169008e-09</td>\n",
       "      <td>2.781403e-09</td>\n",
       "      <td>4.085386e-11</td>\n",
       "      <td>2.397509e-09</td>\n",
       "      <td>1.046674</td>\n",
       "      <td>1.514173</td>\n",
       "      <td>0.976891</td>\n",
       "      <td>0.706019</td>\n",
       "    </tr>\n",
       "    <tr>\n",
       "      <th>12</th>\n",
       "      <td>015</td>\n",
       "      <td>c</td>\n",
       "      <td>2.028147e-09</td>\n",
       "      <td>8.640679e-10</td>\n",
       "      <td>2.405314e-09</td>\n",
       "      <td>2.690032e-09</td>\n",
       "      <td>8.647936e-10</td>\n",
       "      <td>2.026285e-10</td>\n",
       "      <td>1.224630e-09</td>\n",
       "      <td>2.105688e-09</td>\n",
       "      <td>1.170454</td>\n",
       "      <td>1.205648</td>\n",
       "      <td>1.209492</td>\n",
       "      <td>1.271663</td>\n",
       "    </tr>\n",
       "    <tr>\n",
       "      <th>13</th>\n",
       "      <td>016</td>\n",
       "      <td>b</td>\n",
       "      <td>1.623492e-09</td>\n",
       "      <td>2.461478e-09</td>\n",
       "      <td>1.217739e-09</td>\n",
       "      <td>1.202975e-09</td>\n",
       "      <td>1.623492e-09</td>\n",
       "      <td>2.461478e-09</td>\n",
       "      <td>1.217739e-09</td>\n",
       "      <td>1.202975e-09</td>\n",
       "      <td>1.595484</td>\n",
       "      <td>2.020557</td>\n",
       "      <td>1.535788</td>\n",
       "      <td>1.797202</td>\n",
       "    </tr>\n",
       "    <tr>\n",
       "      <th>14</th>\n",
       "      <td>014</td>\n",
       "      <td>b</td>\n",
       "      <td>5.161605e-10</td>\n",
       "      <td>4.266234e-10</td>\n",
       "      <td>4.685283e-10</td>\n",
       "      <td>6.187442e-10</td>\n",
       "      <td>2.174262e-09</td>\n",
       "      <td>2.485752e-09</td>\n",
       "      <td>2.966614e-09</td>\n",
       "      <td>2.658763e-09</td>\n",
       "      <td>NaN</td>\n",
       "      <td>NaN</td>\n",
       "      <td>NaN</td>\n",
       "      <td>NaN</td>\n",
       "    </tr>\n",
       "    <tr>\n",
       "      <th>15</th>\n",
       "      <td>005</td>\n",
       "      <td>a</td>\n",
       "      <td>6.891915e-10</td>\n",
       "      <td>8.707572e-10</td>\n",
       "      <td>1.174825e-09</td>\n",
       "      <td>9.761850e-10</td>\n",
       "      <td>9.228506e-10</td>\n",
       "      <td>8.320926e-10</td>\n",
       "      <td>1.338833e-09</td>\n",
       "      <td>1.340167e-09</td>\n",
       "      <td>0.822680</td>\n",
       "      <td>1.152804</td>\n",
       "      <td>1.268625</td>\n",
       "      <td>1.093545</td>\n",
       "    </tr>\n",
       "    <tr>\n",
       "      <th>16</th>\n",
       "      <td>011</td>\n",
       "      <td>a</td>\n",
       "      <td>1.063844e-09</td>\n",
       "      <td>1.308468e-09</td>\n",
       "      <td>1.650429e-09</td>\n",
       "      <td>1.423682e-09</td>\n",
       "      <td>1.063844e-09</td>\n",
       "      <td>1.308468e-09</td>\n",
       "      <td>1.650429e-09</td>\n",
       "      <td>1.423682e-09</td>\n",
       "      <td>1.324048</td>\n",
       "      <td>1.320599</td>\n",
       "      <td>1.562566</td>\n",
       "      <td>1.448120</td>\n",
       "    </tr>\n",
       "    <tr>\n",
       "      <th>17</th>\n",
       "      <td>014</td>\n",
       "      <td>c</td>\n",
       "      <td>2.251456e-09</td>\n",
       "      <td>3.328602e-09</td>\n",
       "      <td>3.820370e-09</td>\n",
       "      <td>7.473968e-10</td>\n",
       "      <td>2.251456e-09</td>\n",
       "      <td>3.328602e-09</td>\n",
       "      <td>3.820370e-09</td>\n",
       "      <td>7.473968e-10</td>\n",
       "      <td>1.279463</td>\n",
       "      <td>1.279701</td>\n",
       "      <td>1.663395</td>\n",
       "      <td>1.487042</td>\n",
       "    </tr>\n",
       "    <tr>\n",
       "      <th>18</th>\n",
       "      <td>002</td>\n",
       "      <td>b</td>\n",
       "      <td>1.999383e-09</td>\n",
       "      <td>2.003540e-09</td>\n",
       "      <td>2.415227e-09</td>\n",
       "      <td>1.807421e-09</td>\n",
       "      <td>1.999383e-09</td>\n",
       "      <td>2.003540e-09</td>\n",
       "      <td>2.415227e-09</td>\n",
       "      <td>1.807421e-09</td>\n",
       "      <td>1.394053</td>\n",
       "      <td>1.506327</td>\n",
       "      <td>1.455448</td>\n",
       "      <td>1.408218</td>\n",
       "    </tr>\n",
       "    <tr>\n",
       "      <th>19</th>\n",
       "      <td>003</td>\n",
       "      <td>a</td>\n",
       "      <td>4.049259e-11</td>\n",
       "      <td>4.172682e-11</td>\n",
       "      <td>5.757200e-11</td>\n",
       "      <td>4.820902e-11</td>\n",
       "      <td>1.771918e-13</td>\n",
       "      <td>1.278407e-13</td>\n",
       "      <td>1.759355e-13</td>\n",
       "      <td>1.380827e-13</td>\n",
       "      <td>NaN</td>\n",
       "      <td>NaN</td>\n",
       "      <td>NaN</td>\n",
       "      <td>NaN</td>\n",
       "    </tr>\n",
       "    <tr>\n",
       "      <th>20</th>\n",
       "      <td>101</td>\n",
       "      <td>c</td>\n",
       "      <td>1.485549e-09</td>\n",
       "      <td>1.164021e-09</td>\n",
       "      <td>2.076375e-09</td>\n",
       "      <td>2.072915e-09</td>\n",
       "      <td>1.485549e-09</td>\n",
       "      <td>1.164021e-09</td>\n",
       "      <td>2.076375e-09</td>\n",
       "      <td>2.072915e-09</td>\n",
       "      <td>1.510008</td>\n",
       "      <td>1.676555</td>\n",
       "      <td>2.178605</td>\n",
       "      <td>2.270816</td>\n",
       "    </tr>\n",
       "    <tr>\n",
       "      <th>21</th>\n",
       "      <td>017</td>\n",
       "      <td>b</td>\n",
       "      <td>1.763454e-09</td>\n",
       "      <td>1.374280e-09</td>\n",
       "      <td>1.516236e-09</td>\n",
       "      <td>1.432270e-10</td>\n",
       "      <td>1.901594e-09</td>\n",
       "      <td>1.665816e-09</td>\n",
       "      <td>1.512060e-09</td>\n",
       "      <td>1.772186e-09</td>\n",
       "      <td>1.510361</td>\n",
       "      <td>1.196067</td>\n",
       "      <td>1.202533</td>\n",
       "      <td>1.227642</td>\n",
       "    </tr>\n",
       "    <tr>\n",
       "      <th>22</th>\n",
       "      <td>107</td>\n",
       "      <td>a</td>\n",
       "      <td>1.292419e-09</td>\n",
       "      <td>1.138518e-09</td>\n",
       "      <td>2.697368e-09</td>\n",
       "      <td>1.587763e-09</td>\n",
       "      <td>1.292419e-09</td>\n",
       "      <td>1.138518e-09</td>\n",
       "      <td>2.697368e-09</td>\n",
       "      <td>1.587763e-09</td>\n",
       "      <td>1.069880</td>\n",
       "      <td>1.220770</td>\n",
       "      <td>1.202971</td>\n",
       "      <td>1.129543</td>\n",
       "    </tr>\n",
       "    <tr>\n",
       "      <th>23</th>\n",
       "      <td>114</td>\n",
       "      <td>b</td>\n",
       "      <td>1.138093e-09</td>\n",
       "      <td>1.107218e-09</td>\n",
       "      <td>8.524848e-10</td>\n",
       "      <td>1.944373e-09</td>\n",
       "      <td>6.397579e-10</td>\n",
       "      <td>1.005384e-09</td>\n",
       "      <td>7.375268e-10</td>\n",
       "      <td>8.727361e-10</td>\n",
       "      <td>1.054861</td>\n",
       "      <td>1.286520</td>\n",
       "      <td>1.021142</td>\n",
       "      <td>1.134344</td>\n",
       "    </tr>\n",
       "    <tr>\n",
       "      <th>24</th>\n",
       "      <td>018</td>\n",
       "      <td>c</td>\n",
       "      <td>2.332213e-09</td>\n",
       "      <td>1.988965e-09</td>\n",
       "      <td>2.811336e-09</td>\n",
       "      <td>2.525031e-09</td>\n",
       "      <td>2.204191e-09</td>\n",
       "      <td>1.745451e-09</td>\n",
       "      <td>7.845684e-10</td>\n",
       "      <td>2.081697e-09</td>\n",
       "      <td>1.252432</td>\n",
       "      <td>1.132354</td>\n",
       "      <td>1.411818</td>\n",
       "      <td>1.379246</td>\n",
       "    </tr>\n",
       "    <tr>\n",
       "      <th>25</th>\n",
       "      <td>015</td>\n",
       "      <td>b</td>\n",
       "      <td>2.353600e-10</td>\n",
       "      <td>2.548756e-09</td>\n",
       "      <td>6.242461e-11</td>\n",
       "      <td>2.042527e-10</td>\n",
       "      <td>2.063271e-09</td>\n",
       "      <td>1.538867e-09</td>\n",
       "      <td>1.871868e-09</td>\n",
       "      <td>2.580499e-09</td>\n",
       "      <td>1.037595</td>\n",
       "      <td>1.043636</td>\n",
       "      <td>1.131247</td>\n",
       "      <td>1.056763</td>\n",
       "    </tr>\n",
       "    <tr>\n",
       "      <th>26</th>\n",
       "      <td>004</td>\n",
       "      <td>b</td>\n",
       "      <td>8.636819e-10</td>\n",
       "      <td>1.065115e-09</td>\n",
       "      <td>1.254727e-09</td>\n",
       "      <td>2.005423e-09</td>\n",
       "      <td>1.014132e-09</td>\n",
       "      <td>7.536720e-10</td>\n",
       "      <td>1.184716e-09</td>\n",
       "      <td>1.796328e-09</td>\n",
       "      <td>1.058472</td>\n",
       "      <td>1.035612</td>\n",
       "      <td>1.199358</td>\n",
       "      <td>1.491982</td>\n",
       "    </tr>\n",
       "    <tr>\n",
       "      <th>27</th>\n",
       "      <td>020</td>\n",
       "      <td>a</td>\n",
       "      <td>4.518937e-09</td>\n",
       "      <td>2.210992e-09</td>\n",
       "      <td>2.148333e-09</td>\n",
       "      <td>2.011134e-09</td>\n",
       "      <td>4.518937e-09</td>\n",
       "      <td>2.210992e-09</td>\n",
       "      <td>2.148333e-09</td>\n",
       "      <td>2.011134e-09</td>\n",
       "      <td>1.032985</td>\n",
       "      <td>1.228966</td>\n",
       "      <td>1.293942</td>\n",
       "      <td>1.278492</td>\n",
       "    </tr>\n",
       "    <tr>\n",
       "      <th>28</th>\n",
       "      <td>007</td>\n",
       "      <td>c</td>\n",
       "      <td>4.058605e-09</td>\n",
       "      <td>2.982637e-09</td>\n",
       "      <td>3.152897e-09</td>\n",
       "      <td>3.640624e-09</td>\n",
       "      <td>4.058605e-09</td>\n",
       "      <td>2.982637e-09</td>\n",
       "      <td>3.152897e-09</td>\n",
       "      <td>3.640624e-09</td>\n",
       "      <td>2.299290</td>\n",
       "      <td>1.995092</td>\n",
       "      <td>1.857431</td>\n",
       "      <td>2.052578</td>\n",
       "    </tr>\n",
       "    <tr>\n",
       "      <th>29</th>\n",
       "      <td>108</td>\n",
       "      <td>c</td>\n",
       "      <td>2.163813e-09</td>\n",
       "      <td>2.333339e-09</td>\n",
       "      <td>2.147135e-09</td>\n",
       "      <td>1.686706e-09</td>\n",
       "      <td>1.285070e-09</td>\n",
       "      <td>7.204675e-11</td>\n",
       "      <td>2.126328e-09</td>\n",
       "      <td>1.976485e-09</td>\n",
       "      <td>1.172245</td>\n",
       "      <td>1.235924</td>\n",
       "      <td>0.986777</td>\n",
       "      <td>1.042773</td>\n",
       "    </tr>\n",
       "    <tr>\n",
       "      <th>...</th>\n",
       "      <td>...</td>\n",
       "      <td>...</td>\n",
       "      <td>...</td>\n",
       "      <td>...</td>\n",
       "      <td>...</td>\n",
       "      <td>...</td>\n",
       "      <td>...</td>\n",
       "      <td>...</td>\n",
       "      <td>...</td>\n",
       "      <td>...</td>\n",
       "      <td>...</td>\n",
       "      <td>...</td>\n",
       "      <td>...</td>\n",
       "      <td>...</td>\n",
       "    </tr>\n",
       "    <tr>\n",
       "      <th>37</th>\n",
       "      <td>106</td>\n",
       "      <td>b</td>\n",
       "      <td>2.164536e-10</td>\n",
       "      <td>2.723505e-10</td>\n",
       "      <td>3.874454e-10</td>\n",
       "      <td>2.391091e-10</td>\n",
       "      <td>5.486535e-13</td>\n",
       "      <td>1.038545e-10</td>\n",
       "      <td>1.161700e-10</td>\n",
       "      <td>1.989994e-09</td>\n",
       "      <td>0.777268</td>\n",
       "      <td>1.173339</td>\n",
       "      <td>0.246493</td>\n",
       "      <td>NaN</td>\n",
       "    </tr>\n",
       "    <tr>\n",
       "      <th>38</th>\n",
       "      <td>008</td>\n",
       "      <td>c</td>\n",
       "      <td>3.173667e-09</td>\n",
       "      <td>2.700026e-09</td>\n",
       "      <td>1.965121e-09</td>\n",
       "      <td>2.689316e-09</td>\n",
       "      <td>3.173667e-09</td>\n",
       "      <td>2.700026e-09</td>\n",
       "      <td>1.965121e-09</td>\n",
       "      <td>2.689316e-09</td>\n",
       "      <td>1.716745</td>\n",
       "      <td>1.834200</td>\n",
       "      <td>1.518197</td>\n",
       "      <td>1.535286</td>\n",
       "    </tr>\n",
       "    <tr>\n",
       "      <th>39</th>\n",
       "      <td>006</td>\n",
       "      <td>c</td>\n",
       "      <td>6.237507e-10</td>\n",
       "      <td>7.213904e-10</td>\n",
       "      <td>1.022413e-09</td>\n",
       "      <td>1.122932e-09</td>\n",
       "      <td>2.125277e-09</td>\n",
       "      <td>1.528852e-09</td>\n",
       "      <td>3.715426e-11</td>\n",
       "      <td>4.417971e-11</td>\n",
       "      <td>0.773973</td>\n",
       "      <td>1.115250</td>\n",
       "      <td>1.066139</td>\n",
       "      <td>1.544808</td>\n",
       "    </tr>\n",
       "    <tr>\n",
       "      <th>40</th>\n",
       "      <td>103</td>\n",
       "      <td>a</td>\n",
       "      <td>7.264351e-10</td>\n",
       "      <td>6.156642e-10</td>\n",
       "      <td>1.362543e-09</td>\n",
       "      <td>1.279785e-09</td>\n",
       "      <td>7.264351e-10</td>\n",
       "      <td>6.156642e-10</td>\n",
       "      <td>1.362543e-09</td>\n",
       "      <td>1.279785e-09</td>\n",
       "      <td>0.892035</td>\n",
       "      <td>0.788532</td>\n",
       "      <td>1.085763</td>\n",
       "      <td>1.082465</td>\n",
       "    </tr>\n",
       "    <tr>\n",
       "      <th>41</th>\n",
       "      <td>014</td>\n",
       "      <td>a</td>\n",
       "      <td>1.336823e-09</td>\n",
       "      <td>1.336949e-09</td>\n",
       "      <td>3.158367e-09</td>\n",
       "      <td>2.832723e-09</td>\n",
       "      <td>1.578480e-09</td>\n",
       "      <td>1.498559e-09</td>\n",
       "      <td>3.457866e-09</td>\n",
       "      <td>3.004489e-09</td>\n",
       "      <td>0.749440</td>\n",
       "      <td>0.905762</td>\n",
       "      <td>1.469669</td>\n",
       "      <td>1.390990</td>\n",
       "    </tr>\n",
       "    <tr>\n",
       "      <th>42</th>\n",
       "      <td>107</td>\n",
       "      <td>c</td>\n",
       "      <td>2.166566e-09</td>\n",
       "      <td>1.946234e-09</td>\n",
       "      <td>2.341008e-09</td>\n",
       "      <td>2.569473e-09</td>\n",
       "      <td>2.166566e-09</td>\n",
       "      <td>1.946234e-09</td>\n",
       "      <td>2.341008e-09</td>\n",
       "      <td>2.569473e-09</td>\n",
       "      <td>1.443588</td>\n",
       "      <td>1.086006</td>\n",
       "      <td>1.145470</td>\n",
       "      <td>1.346995</td>\n",
       "    </tr>\n",
       "    <tr>\n",
       "      <th>43</th>\n",
       "      <td>019</td>\n",
       "      <td>c</td>\n",
       "      <td>5.580869e-09</td>\n",
       "      <td>5.063715e-09</td>\n",
       "      <td>6.461085e-09</td>\n",
       "      <td>1.116465e-09</td>\n",
       "      <td>7.753384e-09</td>\n",
       "      <td>1.820335e-09</td>\n",
       "      <td>1.942196e-09</td>\n",
       "      <td>3.903395e-09</td>\n",
       "      <td>0.995144</td>\n",
       "      <td>1.237963</td>\n",
       "      <td>0.902366</td>\n",
       "      <td>0.755309</td>\n",
       "    </tr>\n",
       "    <tr>\n",
       "      <th>44</th>\n",
       "      <td>010</td>\n",
       "      <td>c</td>\n",
       "      <td>5.513007e-10</td>\n",
       "      <td>1.095945e-09</td>\n",
       "      <td>1.325622e-09</td>\n",
       "      <td>1.834502e-09</td>\n",
       "      <td>4.223447e-10</td>\n",
       "      <td>2.021833e-11</td>\n",
       "      <td>3.243706e-11</td>\n",
       "      <td>3.989866e-11</td>\n",
       "      <td>0.712957</td>\n",
       "      <td>1.027188</td>\n",
       "      <td>1.172487</td>\n",
       "      <td>1.791355</td>\n",
       "    </tr>\n",
       "    <tr>\n",
       "      <th>45</th>\n",
       "      <td>114</td>\n",
       "      <td>c</td>\n",
       "      <td>9.086620e-10</td>\n",
       "      <td>8.392100e-10</td>\n",
       "      <td>9.410251e-10</td>\n",
       "      <td>1.331558e-10</td>\n",
       "      <td>4.294648e-09</td>\n",
       "      <td>8.688683e-10</td>\n",
       "      <td>9.403028e-10</td>\n",
       "      <td>3.463441e-10</td>\n",
       "      <td>0.897242</td>\n",
       "      <td>0.920837</td>\n",
       "      <td>0.941542</td>\n",
       "      <td>0.913649</td>\n",
       "    </tr>\n",
       "    <tr>\n",
       "      <th>46</th>\n",
       "      <td>116</td>\n",
       "      <td>c</td>\n",
       "      <td>2.400330e-09</td>\n",
       "      <td>2.586519e-09</td>\n",
       "      <td>3.030982e-09</td>\n",
       "      <td>1.828902e-09</td>\n",
       "      <td>2.400330e-09</td>\n",
       "      <td>2.586519e-09</td>\n",
       "      <td>3.030982e-09</td>\n",
       "      <td>1.828902e-09</td>\n",
       "      <td>1.289323</td>\n",
       "      <td>1.522195</td>\n",
       "      <td>1.191933</td>\n",
       "      <td>1.237473</td>\n",
       "    </tr>\n",
       "    <tr>\n",
       "      <th>47</th>\n",
       "      <td>018</td>\n",
       "      <td>a</td>\n",
       "      <td>2.672515e-09</td>\n",
       "      <td>2.822757e-09</td>\n",
       "      <td>1.043913e-09</td>\n",
       "      <td>3.676725e-09</td>\n",
       "      <td>2.326916e-09</td>\n",
       "      <td>2.206736e-09</td>\n",
       "      <td>1.804584e-09</td>\n",
       "      <td>2.930259e-09</td>\n",
       "      <td>1.023291</td>\n",
       "      <td>1.289645</td>\n",
       "      <td>1.175673</td>\n",
       "      <td>1.371886</td>\n",
       "    </tr>\n",
       "    <tr>\n",
       "      <th>48</th>\n",
       "      <td>112</td>\n",
       "      <td>b</td>\n",
       "      <td>2.092762e-09</td>\n",
       "      <td>3.227566e-09</td>\n",
       "      <td>2.216469e-09</td>\n",
       "      <td>2.765998e-09</td>\n",
       "      <td>1.663940e-09</td>\n",
       "      <td>2.658705e-09</td>\n",
       "      <td>1.875568e-09</td>\n",
       "      <td>2.263237e-09</td>\n",
       "      <td>0.895798</td>\n",
       "      <td>1.160259</td>\n",
       "      <td>0.929063</td>\n",
       "      <td>1.100897</td>\n",
       "    </tr>\n",
       "    <tr>\n",
       "      <th>49</th>\n",
       "      <td>019</td>\n",
       "      <td>a</td>\n",
       "      <td>1.837759e-09</td>\n",
       "      <td>1.351702e-09</td>\n",
       "      <td>1.427068e-09</td>\n",
       "      <td>2.179333e-09</td>\n",
       "      <td>1.837759e-09</td>\n",
       "      <td>1.351702e-09</td>\n",
       "      <td>1.427068e-09</td>\n",
       "      <td>2.179333e-09</td>\n",
       "      <td>1.387673</td>\n",
       "      <td>1.043002</td>\n",
       "      <td>0.967337</td>\n",
       "      <td>1.531300</td>\n",
       "    </tr>\n",
       "    <tr>\n",
       "      <th>50</th>\n",
       "      <td>105</td>\n",
       "      <td>b</td>\n",
       "      <td>1.356170e-09</td>\n",
       "      <td>1.263162e-09</td>\n",
       "      <td>1.171791e-09</td>\n",
       "      <td>7.171549e-10</td>\n",
       "      <td>1.900760e-09</td>\n",
       "      <td>2.344642e-09</td>\n",
       "      <td>2.056834e-09</td>\n",
       "      <td>2.058022e-09</td>\n",
       "      <td>1.121585</td>\n",
       "      <td>1.225205</td>\n",
       "      <td>1.003739</td>\n",
       "      <td>0.869773</td>\n",
       "    </tr>\n",
       "    <tr>\n",
       "      <th>51</th>\n",
       "      <td>006</td>\n",
       "      <td>b</td>\n",
       "      <td>9.028798e-10</td>\n",
       "      <td>5.759379e-10</td>\n",
       "      <td>1.056086e-09</td>\n",
       "      <td>8.545479e-10</td>\n",
       "      <td>9.150640e-10</td>\n",
       "      <td>7.541645e-10</td>\n",
       "      <td>1.145769e-09</td>\n",
       "      <td>1.025543e-09</td>\n",
       "      <td>1.071156</td>\n",
       "      <td>1.027002</td>\n",
       "      <td>1.138008</td>\n",
       "      <td>1.052133</td>\n",
       "    </tr>\n",
       "    <tr>\n",
       "      <th>52</th>\n",
       "      <td>112</td>\n",
       "      <td>c</td>\n",
       "      <td>2.805815e-09</td>\n",
       "      <td>2.185066e-09</td>\n",
       "      <td>2.659977e-09</td>\n",
       "      <td>1.763021e-09</td>\n",
       "      <td>3.981505e-09</td>\n",
       "      <td>5.169228e-09</td>\n",
       "      <td>4.147373e-09</td>\n",
       "      <td>2.620501e-09</td>\n",
       "      <td>1.135922</td>\n",
       "      <td>1.199917</td>\n",
       "      <td>0.896429</td>\n",
       "      <td>0.930668</td>\n",
       "    </tr>\n",
       "    <tr>\n",
       "      <th>53</th>\n",
       "      <td>009</td>\n",
       "      <td>c</td>\n",
       "      <td>6.688397e-10</td>\n",
       "      <td>5.518855e-10</td>\n",
       "      <td>5.888595e-10</td>\n",
       "      <td>6.579981e-10</td>\n",
       "      <td>8.000056e-10</td>\n",
       "      <td>7.949501e-11</td>\n",
       "      <td>8.651983e-10</td>\n",
       "      <td>7.231903e-10</td>\n",
       "      <td>1.009548</td>\n",
       "      <td>0.945166</td>\n",
       "      <td>0.912515</td>\n",
       "      <td>1.215481</td>\n",
       "    </tr>\n",
       "    <tr>\n",
       "      <th>54</th>\n",
       "      <td>107</td>\n",
       "      <td>b</td>\n",
       "      <td>2.135557e-09</td>\n",
       "      <td>2.457608e-09</td>\n",
       "      <td>2.395294e-09</td>\n",
       "      <td>2.550131e-09</td>\n",
       "      <td>2.135557e-09</td>\n",
       "      <td>2.457608e-09</td>\n",
       "      <td>2.395294e-09</td>\n",
       "      <td>2.550131e-09</td>\n",
       "      <td>1.140703</td>\n",
       "      <td>1.275699</td>\n",
       "      <td>1.317886</td>\n",
       "      <td>1.189724</td>\n",
       "    </tr>\n",
       "    <tr>\n",
       "      <th>55</th>\n",
       "      <td>118</td>\n",
       "      <td>b</td>\n",
       "      <td>7.407408e-10</td>\n",
       "      <td>1.133799e-09</td>\n",
       "      <td>1.290638e-09</td>\n",
       "      <td>1.498998e-09</td>\n",
       "      <td>7.407408e-10</td>\n",
       "      <td>1.133799e-09</td>\n",
       "      <td>1.290638e-09</td>\n",
       "      <td>1.498998e-09</td>\n",
       "      <td>0.925887</td>\n",
       "      <td>1.086825</td>\n",
       "      <td>1.522946</td>\n",
       "      <td>1.642274</td>\n",
       "    </tr>\n",
       "    <tr>\n",
       "      <th>56</th>\n",
       "      <td>010</td>\n",
       "      <td>b</td>\n",
       "      <td>9.044179e-10</td>\n",
       "      <td>8.244200e-10</td>\n",
       "      <td>1.283897e-09</td>\n",
       "      <td>1.526776e-09</td>\n",
       "      <td>8.646151e-10</td>\n",
       "      <td>8.105855e-10</td>\n",
       "      <td>1.335084e-09</td>\n",
       "      <td>1.741287e-09</td>\n",
       "      <td>1.198619</td>\n",
       "      <td>1.004492</td>\n",
       "      <td>1.266461</td>\n",
       "      <td>1.486326</td>\n",
       "    </tr>\n",
       "    <tr>\n",
       "      <th>57</th>\n",
       "      <td>017</td>\n",
       "      <td>a</td>\n",
       "      <td>1.322589e-09</td>\n",
       "      <td>3.822410e-09</td>\n",
       "      <td>5.497223e-09</td>\n",
       "      <td>5.491511e-09</td>\n",
       "      <td>1.322589e-09</td>\n",
       "      <td>3.822410e-09</td>\n",
       "      <td>5.497223e-09</td>\n",
       "      <td>5.491511e-09</td>\n",
       "      <td>1.191635</td>\n",
       "      <td>2.148856</td>\n",
       "      <td>2.119151</td>\n",
       "      <td>2.305861</td>\n",
       "    </tr>\n",
       "    <tr>\n",
       "      <th>58</th>\n",
       "      <td>111</td>\n",
       "      <td>b</td>\n",
       "      <td>1.891940e-10</td>\n",
       "      <td>1.610343e-10</td>\n",
       "      <td>2.015858e-10</td>\n",
       "      <td>1.886396e-10</td>\n",
       "      <td>1.838973e-09</td>\n",
       "      <td>1.151074e-09</td>\n",
       "      <td>1.931856e-09</td>\n",
       "      <td>1.882395e-09</td>\n",
       "      <td>NaN</td>\n",
       "      <td>NaN</td>\n",
       "      <td>NaN</td>\n",
       "      <td>NaN</td>\n",
       "    </tr>\n",
       "    <tr>\n",
       "      <th>59</th>\n",
       "      <td>118</td>\n",
       "      <td>a</td>\n",
       "      <td>1.104169e-09</td>\n",
       "      <td>1.295648e-09</td>\n",
       "      <td>1.672283e-09</td>\n",
       "      <td>2.109689e-09</td>\n",
       "      <td>1.104169e-09</td>\n",
       "      <td>1.295648e-09</td>\n",
       "      <td>1.672283e-09</td>\n",
       "      <td>2.109689e-09</td>\n",
       "      <td>1.597319</td>\n",
       "      <td>1.279107</td>\n",
       "      <td>1.887767</td>\n",
       "      <td>1.788447</td>\n",
       "    </tr>\n",
       "    <tr>\n",
       "      <th>60</th>\n",
       "      <td>101</td>\n",
       "      <td>a</td>\n",
       "      <td>1.843764e-09</td>\n",
       "      <td>1.789434e-09</td>\n",
       "      <td>2.568604e-09</td>\n",
       "      <td>3.749589e-09</td>\n",
       "      <td>7.488882e-12</td>\n",
       "      <td>8.385588e-12</td>\n",
       "      <td>1.503103e-11</td>\n",
       "      <td>1.997918e-11</td>\n",
       "      <td>1.835242</td>\n",
       "      <td>1.710638</td>\n",
       "      <td>1.811239</td>\n",
       "      <td>2.215506</td>\n",
       "    </tr>\n",
       "    <tr>\n",
       "      <th>61</th>\n",
       "      <td>011</td>\n",
       "      <td>b</td>\n",
       "      <td>9.445061e-10</td>\n",
       "      <td>1.008119e-09</td>\n",
       "      <td>1.673631e-09</td>\n",
       "      <td>1.541462e-09</td>\n",
       "      <td>9.445061e-10</td>\n",
       "      <td>1.008119e-09</td>\n",
       "      <td>1.673631e-09</td>\n",
       "      <td>1.541462e-09</td>\n",
       "      <td>1.185054</td>\n",
       "      <td>1.330330</td>\n",
       "      <td>1.504816</td>\n",
       "      <td>1.357738</td>\n",
       "    </tr>\n",
       "    <tr>\n",
       "      <th>62</th>\n",
       "      <td>016</td>\n",
       "      <td>a</td>\n",
       "      <td>1.321818e-09</td>\n",
       "      <td>1.567432e-09</td>\n",
       "      <td>1.307114e-09</td>\n",
       "      <td>1.614467e-09</td>\n",
       "      <td>1.321818e-09</td>\n",
       "      <td>1.567432e-09</td>\n",
       "      <td>1.307114e-09</td>\n",
       "      <td>1.614467e-09</td>\n",
       "      <td>1.444104</td>\n",
       "      <td>1.567476</td>\n",
       "      <td>1.384422</td>\n",
       "      <td>1.462676</td>\n",
       "    </tr>\n",
       "    <tr>\n",
       "      <th>63</th>\n",
       "      <td>020</td>\n",
       "      <td>b</td>\n",
       "      <td>2.367506e-09</td>\n",
       "      <td>2.566312e-09</td>\n",
       "      <td>2.894606e-09</td>\n",
       "      <td>2.778255e-09</td>\n",
       "      <td>1.291059e-09</td>\n",
       "      <td>1.393012e-09</td>\n",
       "      <td>1.554265e-09</td>\n",
       "      <td>1.827285e-09</td>\n",
       "      <td>1.255943</td>\n",
       "      <td>1.135768</td>\n",
       "      <td>1.431245</td>\n",
       "      <td>1.075885</td>\n",
       "    </tr>\n",
       "    <tr>\n",
       "      <th>64</th>\n",
       "      <td>111</td>\n",
       "      <td>c</td>\n",
       "      <td>1.915317e-09</td>\n",
       "      <td>1.417375e-09</td>\n",
       "      <td>1.715823e-09</td>\n",
       "      <td>1.713981e-09</td>\n",
       "      <td>2.897872e-09</td>\n",
       "      <td>1.549393e-09</td>\n",
       "      <td>2.519308e-09</td>\n",
       "      <td>2.556415e-09</td>\n",
       "      <td>1.649201</td>\n",
       "      <td>1.437095</td>\n",
       "      <td>1.178643</td>\n",
       "      <td>1.629931</td>\n",
       "    </tr>\n",
       "    <tr>\n",
       "      <th>65</th>\n",
       "      <td>119</td>\n",
       "      <td>a</td>\n",
       "      <td>6.952618e-10</td>\n",
       "      <td>3.789290e-10</td>\n",
       "      <td>6.211449e-10</td>\n",
       "      <td>3.779523e-10</td>\n",
       "      <td>3.747231e-10</td>\n",
       "      <td>2.060255e-10</td>\n",
       "      <td>3.083969e-10</td>\n",
       "      <td>2.450860e-10</td>\n",
       "      <td>1.239763</td>\n",
       "      <td>1.099123</td>\n",
       "      <td>1.435399</td>\n",
       "      <td>1.001040</td>\n",
       "    </tr>\n",
       "    <tr>\n",
       "      <th>66</th>\n",
       "      <td>113</td>\n",
       "      <td>c</td>\n",
       "      <td>7.569174e-09</td>\n",
       "      <td>4.640757e-09</td>\n",
       "      <td>4.682503e-09</td>\n",
       "      <td>5.082047e-09</td>\n",
       "      <td>7.569174e-09</td>\n",
       "      <td>4.640757e-09</td>\n",
       "      <td>4.682503e-09</td>\n",
       "      <td>5.082047e-09</td>\n",
       "      <td>1.219075</td>\n",
       "      <td>0.792458</td>\n",
       "      <td>1.093092</td>\n",
       "      <td>1.195381</td>\n",
       "    </tr>\n",
       "  </tbody>\n",
       "</table>\n",
       "<p>67 rows × 14 columns</p>\n",
       "</div>"
      ],
      "text/plain": [
       "     id visit  maxamp_occipital_16  maxamp_occipital_32  maxamp_occipital_64  \\\n",
       "0   017     c         1.886948e-09         1.311694e-09         2.639809e-09   \n",
       "1   110     a         1.947913e-09         5.757273e-09         1.169274e-09   \n",
       "2   109     c         1.182881e-09         1.258869e-09         1.163593e-09   \n",
       "3   117     b         4.199994e-09         3.110587e-09         5.351551e-09   \n",
       "4   018     b         2.075330e-09         8.368422e-10         2.237206e-09   \n",
       "5   004     b         6.976483e-10         6.404484e-10         6.155652e-10   \n",
       "6   002     c         2.639706e-09         2.320391e-09         2.641758e-09   \n",
       "7   111     a         3.643916e-10         3.518915e-10         4.620400e-10   \n",
       "8   019     b         2.765936e-09         3.190180e-09         1.993672e-09   \n",
       "9   104     a         8.312188e-10         7.409420e-10         8.172004e-10   \n",
       "10  001     c         8.433587e-12         1.590789e-09         1.078708e-11   \n",
       "11  108     a         6.146599e-10         4.550301e-10         3.211697e-10   \n",
       "12  015     c         2.028147e-09         8.640679e-10         2.405314e-09   \n",
       "13  016     b         1.623492e-09         2.461478e-09         1.217739e-09   \n",
       "14  014     b         5.161605e-10         4.266234e-10         4.685283e-10   \n",
       "15  005     a         6.891915e-10         8.707572e-10         1.174825e-09   \n",
       "16  011     a         1.063844e-09         1.308468e-09         1.650429e-09   \n",
       "17  014     c         2.251456e-09         3.328602e-09         3.820370e-09   \n",
       "18  002     b         1.999383e-09         2.003540e-09         2.415227e-09   \n",
       "19  003     a         4.049259e-11         4.172682e-11         5.757200e-11   \n",
       "20  101     c         1.485549e-09         1.164021e-09         2.076375e-09   \n",
       "21  017     b         1.763454e-09         1.374280e-09         1.516236e-09   \n",
       "22  107     a         1.292419e-09         1.138518e-09         2.697368e-09   \n",
       "23  114     b         1.138093e-09         1.107218e-09         8.524848e-10   \n",
       "24  018     c         2.332213e-09         1.988965e-09         2.811336e-09   \n",
       "25  015     b         2.353600e-10         2.548756e-09         6.242461e-11   \n",
       "26  004     b         8.636819e-10         1.065115e-09         1.254727e-09   \n",
       "27  020     a         4.518937e-09         2.210992e-09         2.148333e-09   \n",
       "28  007     c         4.058605e-09         2.982637e-09         3.152897e-09   \n",
       "29  108     c         2.163813e-09         2.333339e-09         2.147135e-09   \n",
       "..  ...   ...                  ...                  ...                  ...   \n",
       "37  106     b         2.164536e-10         2.723505e-10         3.874454e-10   \n",
       "38  008     c         3.173667e-09         2.700026e-09         1.965121e-09   \n",
       "39  006     c         6.237507e-10         7.213904e-10         1.022413e-09   \n",
       "40  103     a         7.264351e-10         6.156642e-10         1.362543e-09   \n",
       "41  014     a         1.336823e-09         1.336949e-09         3.158367e-09   \n",
       "42  107     c         2.166566e-09         1.946234e-09         2.341008e-09   \n",
       "43  019     c         5.580869e-09         5.063715e-09         6.461085e-09   \n",
       "44  010     c         5.513007e-10         1.095945e-09         1.325622e-09   \n",
       "45  114     c         9.086620e-10         8.392100e-10         9.410251e-10   \n",
       "46  116     c         2.400330e-09         2.586519e-09         3.030982e-09   \n",
       "47  018     a         2.672515e-09         2.822757e-09         1.043913e-09   \n",
       "48  112     b         2.092762e-09         3.227566e-09         2.216469e-09   \n",
       "49  019     a         1.837759e-09         1.351702e-09         1.427068e-09   \n",
       "50  105     b         1.356170e-09         1.263162e-09         1.171791e-09   \n",
       "51  006     b         9.028798e-10         5.759379e-10         1.056086e-09   \n",
       "52  112     c         2.805815e-09         2.185066e-09         2.659977e-09   \n",
       "53  009     c         6.688397e-10         5.518855e-10         5.888595e-10   \n",
       "54  107     b         2.135557e-09         2.457608e-09         2.395294e-09   \n",
       "55  118     b         7.407408e-10         1.133799e-09         1.290638e-09   \n",
       "56  010     b         9.044179e-10         8.244200e-10         1.283897e-09   \n",
       "57  017     a         1.322589e-09         3.822410e-09         5.497223e-09   \n",
       "58  111     b         1.891940e-10         1.610343e-10         2.015858e-10   \n",
       "59  118     a         1.104169e-09         1.295648e-09         1.672283e-09   \n",
       "60  101     a         1.843764e-09         1.789434e-09         2.568604e-09   \n",
       "61  011     b         9.445061e-10         1.008119e-09         1.673631e-09   \n",
       "62  016     a         1.321818e-09         1.567432e-09         1.307114e-09   \n",
       "63  020     b         2.367506e-09         2.566312e-09         2.894606e-09   \n",
       "64  111     c         1.915317e-09         1.417375e-09         1.715823e-09   \n",
       "65  119     a         6.952618e-10         3.789290e-10         6.211449e-10   \n",
       "66  113     c         7.569174e-09         4.640757e-09         4.682503e-09   \n",
       "\n",
       "    maxamp_occipital_100  maxamp_all_16  maxamp_all_32  maxamp_all_64  \\\n",
       "0           1.642056e-09   1.886948e-09   1.311694e-09   2.639809e-09   \n",
       "1           1.120803e-09   1.858458e-10   6.043818e-10   1.271451e-10   \n",
       "2           9.259463e-10   7.125155e-10   8.453512e-10   8.079321e-10   \n",
       "3           4.073291e-09   4.199994e-09   3.110587e-09   5.351551e-09   \n",
       "4           1.679443e-09   1.942377e-09   2.043292e-09   2.364269e-09   \n",
       "5           8.540354e-10   4.032217e-10   3.297790e-10   3.732939e-10   \n",
       "6           2.343579e-09   5.713987e-11   5.201326e-11   1.080859e-10   \n",
       "7           4.455454e-10   1.605201e-09   1.752863e-09   1.736696e-09   \n",
       "8           2.067899e-09   2.765936e-09   3.190180e-09   1.993672e-09   \n",
       "9           1.371840e-09   5.383580e-10   6.291586e-10   6.934458e-10   \n",
       "10          1.510044e-09   1.342519e-09   1.593397e-09   1.412387e-09   \n",
       "11          2.083989e-10   4.169008e-09   2.781403e-09   4.085386e-11   \n",
       "12          2.690032e-09   8.647936e-10   2.026285e-10   1.224630e-09   \n",
       "13          1.202975e-09   1.623492e-09   2.461478e-09   1.217739e-09   \n",
       "14          6.187442e-10   2.174262e-09   2.485752e-09   2.966614e-09   \n",
       "15          9.761850e-10   9.228506e-10   8.320926e-10   1.338833e-09   \n",
       "16          1.423682e-09   1.063844e-09   1.308468e-09   1.650429e-09   \n",
       "17          7.473968e-10   2.251456e-09   3.328602e-09   3.820370e-09   \n",
       "18          1.807421e-09   1.999383e-09   2.003540e-09   2.415227e-09   \n",
       "19          4.820902e-11   1.771918e-13   1.278407e-13   1.759355e-13   \n",
       "20          2.072915e-09   1.485549e-09   1.164021e-09   2.076375e-09   \n",
       "21          1.432270e-10   1.901594e-09   1.665816e-09   1.512060e-09   \n",
       "22          1.587763e-09   1.292419e-09   1.138518e-09   2.697368e-09   \n",
       "23          1.944373e-09   6.397579e-10   1.005384e-09   7.375268e-10   \n",
       "24          2.525031e-09   2.204191e-09   1.745451e-09   7.845684e-10   \n",
       "25          2.042527e-10   2.063271e-09   1.538867e-09   1.871868e-09   \n",
       "26          2.005423e-09   1.014132e-09   7.536720e-10   1.184716e-09   \n",
       "27          2.011134e-09   4.518937e-09   2.210992e-09   2.148333e-09   \n",
       "28          3.640624e-09   4.058605e-09   2.982637e-09   3.152897e-09   \n",
       "29          1.686706e-09   1.285070e-09   7.204675e-11   2.126328e-09   \n",
       "..                   ...            ...            ...            ...   \n",
       "37          2.391091e-10   5.486535e-13   1.038545e-10   1.161700e-10   \n",
       "38          2.689316e-09   3.173667e-09   2.700026e-09   1.965121e-09   \n",
       "39          1.122932e-09   2.125277e-09   1.528852e-09   3.715426e-11   \n",
       "40          1.279785e-09   7.264351e-10   6.156642e-10   1.362543e-09   \n",
       "41          2.832723e-09   1.578480e-09   1.498559e-09   3.457866e-09   \n",
       "42          2.569473e-09   2.166566e-09   1.946234e-09   2.341008e-09   \n",
       "43          1.116465e-09   7.753384e-09   1.820335e-09   1.942196e-09   \n",
       "44          1.834502e-09   4.223447e-10   2.021833e-11   3.243706e-11   \n",
       "45          1.331558e-10   4.294648e-09   8.688683e-10   9.403028e-10   \n",
       "46          1.828902e-09   2.400330e-09   2.586519e-09   3.030982e-09   \n",
       "47          3.676725e-09   2.326916e-09   2.206736e-09   1.804584e-09   \n",
       "48          2.765998e-09   1.663940e-09   2.658705e-09   1.875568e-09   \n",
       "49          2.179333e-09   1.837759e-09   1.351702e-09   1.427068e-09   \n",
       "50          7.171549e-10   1.900760e-09   2.344642e-09   2.056834e-09   \n",
       "51          8.545479e-10   9.150640e-10   7.541645e-10   1.145769e-09   \n",
       "52          1.763021e-09   3.981505e-09   5.169228e-09   4.147373e-09   \n",
       "53          6.579981e-10   8.000056e-10   7.949501e-11   8.651983e-10   \n",
       "54          2.550131e-09   2.135557e-09   2.457608e-09   2.395294e-09   \n",
       "55          1.498998e-09   7.407408e-10   1.133799e-09   1.290638e-09   \n",
       "56          1.526776e-09   8.646151e-10   8.105855e-10   1.335084e-09   \n",
       "57          5.491511e-09   1.322589e-09   3.822410e-09   5.497223e-09   \n",
       "58          1.886396e-10   1.838973e-09   1.151074e-09   1.931856e-09   \n",
       "59          2.109689e-09   1.104169e-09   1.295648e-09   1.672283e-09   \n",
       "60          3.749589e-09   7.488882e-12   8.385588e-12   1.503103e-11   \n",
       "61          1.541462e-09   9.445061e-10   1.008119e-09   1.673631e-09   \n",
       "62          1.614467e-09   1.321818e-09   1.567432e-09   1.307114e-09   \n",
       "63          2.778255e-09   1.291059e-09   1.393012e-09   1.554265e-09   \n",
       "64          1.713981e-09   2.897872e-09   1.549393e-09   2.519308e-09   \n",
       "65          3.779523e-10   3.747231e-10   2.060255e-10   3.083969e-10   \n",
       "66          5.082047e-09   7.569174e-09   4.640757e-09   4.682503e-09   \n",
       "\n",
       "    maxamp_all_100  avsnr_occipital_16  avsnr_occipital_32  \\\n",
       "0     1.642056e-09            1.615369            1.496006   \n",
       "1     2.028098e-10            0.984805            0.748223   \n",
       "2     7.120175e-10            1.215010            1.225470   \n",
       "3     4.073291e-09            1.598675            1.471255   \n",
       "4     1.413356e-09            1.170906            1.140167   \n",
       "5     3.322946e-10            1.300475            1.042961   \n",
       "6     8.001559e-11            1.420628            1.800495   \n",
       "7     3.073524e-09            1.043904            1.012891   \n",
       "8     2.067899e-09            1.370249            1.126160   \n",
       "9     9.620184e-10            1.174490            0.894938   \n",
       "10    1.458417e-09            0.930549            1.235694   \n",
       "11    2.397509e-09            1.046674            1.514173   \n",
       "12    2.105688e-09            1.170454            1.205648   \n",
       "13    1.202975e-09            1.595484            2.020557   \n",
       "14    2.658763e-09                 NaN                 NaN   \n",
       "15    1.340167e-09            0.822680            1.152804   \n",
       "16    1.423682e-09            1.324048            1.320599   \n",
       "17    7.473968e-10            1.279463            1.279701   \n",
       "18    1.807421e-09            1.394053            1.506327   \n",
       "19    1.380827e-13                 NaN                 NaN   \n",
       "20    2.072915e-09            1.510008            1.676555   \n",
       "21    1.772186e-09            1.510361            1.196067   \n",
       "22    1.587763e-09            1.069880            1.220770   \n",
       "23    8.727361e-10            1.054861            1.286520   \n",
       "24    2.081697e-09            1.252432            1.132354   \n",
       "25    2.580499e-09            1.037595            1.043636   \n",
       "26    1.796328e-09            1.058472            1.035612   \n",
       "27    2.011134e-09            1.032985            1.228966   \n",
       "28    3.640624e-09            2.299290            1.995092   \n",
       "29    1.976485e-09            1.172245            1.235924   \n",
       "..             ...                 ...                 ...   \n",
       "37    1.989994e-09            0.777268            1.173339   \n",
       "38    2.689316e-09            1.716745            1.834200   \n",
       "39    4.417971e-11            0.773973            1.115250   \n",
       "40    1.279785e-09            0.892035            0.788532   \n",
       "41    3.004489e-09            0.749440            0.905762   \n",
       "42    2.569473e-09            1.443588            1.086006   \n",
       "43    3.903395e-09            0.995144            1.237963   \n",
       "44    3.989866e-11            0.712957            1.027188   \n",
       "45    3.463441e-10            0.897242            0.920837   \n",
       "46    1.828902e-09            1.289323            1.522195   \n",
       "47    2.930259e-09            1.023291            1.289645   \n",
       "48    2.263237e-09            0.895798            1.160259   \n",
       "49    2.179333e-09            1.387673            1.043002   \n",
       "50    2.058022e-09            1.121585            1.225205   \n",
       "51    1.025543e-09            1.071156            1.027002   \n",
       "52    2.620501e-09            1.135922            1.199917   \n",
       "53    7.231903e-10            1.009548            0.945166   \n",
       "54    2.550131e-09            1.140703            1.275699   \n",
       "55    1.498998e-09            0.925887            1.086825   \n",
       "56    1.741287e-09            1.198619            1.004492   \n",
       "57    5.491511e-09            1.191635            2.148856   \n",
       "58    1.882395e-09                 NaN                 NaN   \n",
       "59    2.109689e-09            1.597319            1.279107   \n",
       "60    1.997918e-11            1.835242            1.710638   \n",
       "61    1.541462e-09            1.185054            1.330330   \n",
       "62    1.614467e-09            1.444104            1.567476   \n",
       "63    1.827285e-09            1.255943            1.135768   \n",
       "64    2.556415e-09            1.649201            1.437095   \n",
       "65    2.450860e-10            1.239763            1.099123   \n",
       "66    5.082047e-09            1.219075            0.792458   \n",
       "\n",
       "    avsnr_occipital_64  avsnr_occipital_100  \n",
       "0             1.805192             1.359867  \n",
       "1             0.935111             1.220182  \n",
       "2             1.267641             0.868515  \n",
       "3             1.965310             1.764413  \n",
       "4             1.280196             1.210132  \n",
       "5             1.012387             1.332535  \n",
       "6             1.685467             1.460328  \n",
       "7             1.168637             1.179908  \n",
       "8             0.987119             0.780182  \n",
       "9             1.152100             1.551080  \n",
       "10            1.188521             1.239457  \n",
       "11            0.976891             0.706019  \n",
       "12            1.209492             1.271663  \n",
       "13            1.535788             1.797202  \n",
       "14                 NaN                  NaN  \n",
       "15            1.268625             1.093545  \n",
       "16            1.562566             1.448120  \n",
       "17            1.663395             1.487042  \n",
       "18            1.455448             1.408218  \n",
       "19                 NaN                  NaN  \n",
       "20            2.178605             2.270816  \n",
       "21            1.202533             1.227642  \n",
       "22            1.202971             1.129543  \n",
       "23            1.021142             1.134344  \n",
       "24            1.411818             1.379246  \n",
       "25            1.131247             1.056763  \n",
       "26            1.199358             1.491982  \n",
       "27            1.293942             1.278492  \n",
       "28            1.857431             2.052578  \n",
       "29            0.986777             1.042773  \n",
       "..                 ...                  ...  \n",
       "37            0.246493                  NaN  \n",
       "38            1.518197             1.535286  \n",
       "39            1.066139             1.544808  \n",
       "40            1.085763             1.082465  \n",
       "41            1.469669             1.390990  \n",
       "42            1.145470             1.346995  \n",
       "43            0.902366             0.755309  \n",
       "44            1.172487             1.791355  \n",
       "45            0.941542             0.913649  \n",
       "46            1.191933             1.237473  \n",
       "47            1.175673             1.371886  \n",
       "48            0.929063             1.100897  \n",
       "49            0.967337             1.531300  \n",
       "50            1.003739             0.869773  \n",
       "51            1.138008             1.052133  \n",
       "52            0.896429             0.930668  \n",
       "53            0.912515             1.215481  \n",
       "54            1.317886             1.189724  \n",
       "55            1.522946             1.642274  \n",
       "56            1.266461             1.486326  \n",
       "57            2.119151             2.305861  \n",
       "58                 NaN                  NaN  \n",
       "59            1.887767             1.788447  \n",
       "60            1.811239             2.215506  \n",
       "61            1.504816             1.357738  \n",
       "62            1.384422             1.462676  \n",
       "63            1.431245             1.075885  \n",
       "64            1.178643             1.629931  \n",
       "65            1.435399             1.001040  \n",
       "66            1.093092             1.195381  \n",
       "\n",
       "[67 rows x 14 columns]"
      ]
     },
     "execution_count": 86,
     "metadata": {},
     "output_type": "execute_result"
    }
   ],
   "source": [
    "# Construct the columns for pandas\n",
    "\n",
    "datadict = collections.OrderedDict()  # nice to have order\n",
    "datadict['id'] = [ssvep[0].info['subject_info'][0:-1] for ssvep in ssveps]\n",
    "datadict['visit'] = [ssvep[0].info['subject_info'][-1] for ssvep in ssveps]\n",
    "for label, data in dataarrays.items():\n",
    "    for idx, condition in enumerate([16, 32, 64, 100]):\n",
    "        datadict[label + '_' + str(condition)] = data[:, idx]\n",
    "\n",
    "df = pd.DataFrame(datadict)\n",
    "\n",
    "df.to_csv(date.today().strftime('%Y-%m-%d') + '_alldata.csv')\n",
    "\n",
    "df"
   ]
  }
 ],
 "metadata": {
  "kernelspec": {
   "display_name": "Python [default]",
   "language": "python",
   "name": "python3"
  },
  "language_info": {
   "codemirror_mode": {
    "name": "ipython",
    "version": 3
   },
   "file_extension": ".py",
   "mimetype": "text/x-python",
   "name": "python",
   "nbconvert_exporter": "python",
   "pygments_lexer": "ipython3",
   "version": "3.5.2"
  },
  "widgets": {
   "state": {
    "00e0ab20b6d14cd395cbbc565a924c7f": {
     "views": [
      {
       "cell_index": 6
      }
     ]
    },
    "00fff027bc41475aa381a4e72af73e04": {
     "views": [
      {
       "cell_index": 6
      }
     ]
    },
    "02ccbb4b097b4d969e8c32727238f697": {
     "views": [
      {
       "cell_index": 6
      }
     ]
    },
    "0340cea942ae49d18a35bd25db635bb8": {
     "views": [
      {
       "cell_index": 6
      }
     ]
    },
    "042c0f795eac47a384a6732f1ba25152": {
     "views": [
      {
       "cell_index": 6
      }
     ]
    },
    "051db0f488e444f0892691c8e31f50f0": {
     "views": [
      {
       "cell_index": 6
      }
     ]
    },
    "069943b9de1f4c879e35a885968343c4": {
     "views": [
      {
       "cell_index": 6
      }
     ]
    },
    "08af8531999b41b5892b524874826ebf": {
     "views": [
      {
       "cell_index": 6
      }
     ]
    },
    "09c13cf1fcdf44e9b800404d1f9fe3d9": {
     "views": [
      {
       "cell_index": 6
      }
     ]
    },
    "09c6b783a92045c9bb1a027ac7957617": {
     "views": [
      {
       "cell_index": 6
      }
     ]
    },
    "0afe8227f23043bfb67855d8ca642c52": {
     "views": [
      {
       "cell_index": 6
      }
     ]
    },
    "0f953306fbe2415cba0565aed43aa7f5": {
     "views": [
      {
       "cell_index": 6
      }
     ]
    },
    "1481a37f840a4f45b03cfc72c8af076c": {
     "views": [
      {
       "cell_index": 6
      }
     ]
    },
    "1497c1e784ed4ae0aad1a9d34d0302bb": {
     "views": [
      {
       "cell_index": 6
      }
     ]
    },
    "1726f2425fed48e48ec5ac0fb6e251dc": {
     "views": [
      {
       "cell_index": 6
      }
     ]
    },
    "172f7138412741eea4cd292af6654a88": {
     "views": [
      {
       "cell_index": 6
      }
     ]
    },
    "1819a8a51ad44b22aa319ffd0fa6365a": {
     "views": [
      {
       "cell_index": 6
      }
     ]
    },
    "1855d0aae5a14aef8cea6caf392af339": {
     "views": [
      {
       "cell_index": 6
      }
     ]
    },
    "1b91c001ce324347b53bc24c85dc2551": {
     "views": [
      {
       "cell_index": 6
      }
     ]
    },
    "1bdcd36503bc4043a59db204d6221d73": {
     "views": [
      {
       "cell_index": 6
      }
     ]
    },
    "1bfce42be4dd4ef18a5cf17d3b29ea1b": {
     "views": [
      {
       "cell_index": 6
      }
     ]
    },
    "1ced3928f30340c3bb61d8dc1b77f0d8": {
     "views": [
      {
       "cell_index": 6
      }
     ]
    },
    "1d23b7b575b1408090df918005e8c571": {
     "views": [
      {
       "cell_index": 6
      }
     ]
    },
    "1f27804fe190417cbf1f06611bac7fe9": {
     "views": [
      {
       "cell_index": 6
      }
     ]
    },
    "1f491e769673423f8af091fda604e654": {
     "views": [
      {
       "cell_index": 6
      }
     ]
    },
    "20a45df490f3466cbed0a2828b27a743": {
     "views": [
      {
       "cell_index": 6
      }
     ]
    },
    "21e74c10ef4b478bac421d2f1dad75cf": {
     "views": [
      {
       "cell_index": 6
      }
     ]
    },
    "2408e687e1df4479b3063a87105b85c8": {
     "views": [
      {
       "cell_index": 6
      }
     ]
    },
    "27b6b17ae5954cf59aac3a8f139694d0": {
     "views": [
      {
       "cell_index": 6
      }
     ]
    },
    "2928639eb7a2435eab7bcecc3b535444": {
     "views": [
      {
       "cell_index": 6
      }
     ]
    },
    "2b945f907c204e8e885490deb5edc88c": {
     "views": [
      {
       "cell_index": 6
      }
     ]
    },
    "2d13e4880b3a48609cd2886033852b19": {
     "views": [
      {
       "cell_index": 6
      }
     ]
    },
    "2d3e0d6927cd41abaf6697428a154819": {
     "views": [
      {
       "cell_index": 6
      }
     ]
    },
    "2da5d8de04134615bd15eb661e3b39d9": {
     "views": [
      {
       "cell_index": 6
      }
     ]
    },
    "2e9174160b7c4d4eb0b265412db6b632": {
     "views": [
      {
       "cell_index": 6
      }
     ]
    },
    "332804872e5344d3a793317e04ac4b12": {
     "views": [
      {
       "cell_index": 6
      }
     ]
    },
    "368e5fc9d47a4ff28fee2254a172f336": {
     "views": [
      {
       "cell_index": 6
      }
     ]
    },
    "3acf9bc9d65d4212b459bf6cccad5f15": {
     "views": [
      {
       "cell_index": 6
      }
     ]
    },
    "3b7460720d4f4525aedfba5d530943ec": {
     "views": [
      {
       "cell_index": 6
      }
     ]
    },
    "3f330bd1d7ba4d20bb96b24db5ab56f9": {
     "views": [
      {
       "cell_index": 6
      }
     ]
    },
    "41243822fff6497ab61400d548f95cf2": {
     "views": [
      {
       "cell_index": 6
      }
     ]
    },
    "475cb3be0e644a4fa60d88d87ca608c0": {
     "views": [
      {
       "cell_index": 6
      }
     ]
    },
    "47799f239b734068870579d1fe4cce10": {
     "views": [
      {
       "cell_index": 6
      }
     ]
    },
    "47ce373bd17c407fae7cb28b0b1af80b": {
     "views": [
      {
       "cell_index": 6
      }
     ]
    },
    "489ed88d10b54461a211432879d91e91": {
     "views": [
      {
       "cell_index": 6
      }
     ]
    },
    "490c8a3d1ff6430daa78282335cf13be": {
     "views": [
      {
       "cell_index": 6
      }
     ]
    },
    "4ef1de66f16a44c2be1e84d212c3a708": {
     "views": [
      {
       "cell_index": 6
      }
     ]
    },
    "4f4e6eedc28642abb5ca46cba7527aa3": {
     "views": [
      {
       "cell_index": 6
      }
     ]
    },
    "52c00cbd04054534b938f73f17f6e9e0": {
     "views": [
      {
       "cell_index": 6
      }
     ]
    },
    "544cb9f3fad0441096d71077dfd36357": {
     "views": [
      {
       "cell_index": 6
      }
     ]
    },
    "57ab98157cba4a789de4bf0fe79757b4": {
     "views": [
      {
       "cell_index": 6
      }
     ]
    },
    "5887b7441ea74ea18e4213ba7906d448": {
     "views": [
      {
       "cell_index": 6
      }
     ]
    },
    "5dc78f578f904397be5960744b14afc0": {
     "views": [
      {
       "cell_index": 6
      }
     ]
    },
    "5f6e1fddc4454c9ca8c2ef99be67142f": {
     "views": [
      {
       "cell_index": 6
      }
     ]
    },
    "611dc99541cd464f909ae8486d95f02a": {
     "views": [
      {
       "cell_index": 7
      }
     ]
    },
    "616acfcac9f34b61a5f3debfe7e922df": {
     "views": [
      {
       "cell_index": 6
      }
     ]
    },
    "6213a832d72a44b28920f37f3d64b148": {
     "views": [
      {
       "cell_index": 6
      }
     ]
    },
    "65e15707a7d54cc9bebfc2fb4a28a131": {
     "views": [
      {
       "cell_index": 6
      }
     ]
    },
    "69b03dd401a74c5cbcaf246f20e02fec": {
     "views": [
      {
       "cell_index": 6
      }
     ]
    },
    "6a5af28864774dbb951c945d9f593877": {
     "views": [
      {
       "cell_index": 6
      }
     ]
    },
    "6b87dd04e4804eb798bd0d0a07607695": {
     "views": [
      {
       "cell_index": 6
      }
     ]
    },
    "6fa77f27cae74a1d9d18995460a3cbcb": {
     "views": [
      {
       "cell_index": 6
      }
     ]
    },
    "7077ef04d1114c6b8835724f95932f4c": {
     "views": [
      {
       "cell_index": 6
      }
     ]
    },
    "75fab32bc80c4d61806d83b0114d1bd5": {
     "views": [
      {
       "cell_index": 6
      }
     ]
    },
    "76be90b03daf4632ab77c3aea44725ca": {
     "views": [
      {
       "cell_index": 6
      }
     ]
    },
    "77da8b697fa646cfb2d982ade52ab49a": {
     "views": [
      {
       "cell_index": 6
      }
     ]
    },
    "7a23ba3d3755450dab7a4e01dfdef8f9": {
     "views": [
      {
       "cell_index": 6
      }
     ]
    },
    "7a70c59ad991416983d9ffb23ca06b02": {
     "views": [
      {
       "cell_index": 6
      }
     ]
    },
    "7af6abcd3ba441e5aa717ff73647d329": {
     "views": [
      {
       "cell_index": 6
      }
     ]
    },
    "7cf3e0e0f14f4a209c7ba0d707e56460": {
     "views": [
      {
       "cell_index": 6
      }
     ]
    },
    "7d1df2e804c04eb78ea379de99e9c283": {
     "views": [
      {
       "cell_index": 6
      }
     ]
    },
    "7ee5f8e2664c4cdeb5645794d2547f51": {
     "views": [
      {
       "cell_index": 6
      }
     ]
    },
    "80309c158f0041218aad1e866f8766d8": {
     "views": [
      {
       "cell_index": 6
      }
     ]
    },
    "81536d18008f4121a1d37a33d82b4040": {
     "views": [
      {
       "cell_index": 6
      }
     ]
    },
    "818f418eb67e4a0d985d65c9fecb4416": {
     "views": [
      {
       "cell_index": 6
      }
     ]
    },
    "85d198118bda4074ae961a95f74ba304": {
     "views": [
      {
       "cell_index": 6
      }
     ]
    },
    "88136a69528e417ead3459f7fd98bfe7": {
     "views": [
      {
       "cell_index": 6
      }
     ]
    },
    "89028f5c06a8431daf7149652c1783c0": {
     "views": [
      {
       "cell_index": 6
      }
     ]
    },
    "8b1af073d21e40868d29bbfc38a8e225": {
     "views": [
      {
       "cell_index": 6
      }
     ]
    },
    "90de9fec84d44ce99ffe678cccb7a311": {
     "views": [
      {
       "cell_index": 6
      }
     ]
    },
    "92cf0c7146514b4999236b7cc9501c00": {
     "views": [
      {
       "cell_index": 6
      }
     ]
    },
    "94c5c8df0581438888402c694edcf30a": {
     "views": [
      {
       "cell_index": 6
      }
     ]
    },
    "970d0105d12b4d8db63a5626647533d5": {
     "views": [
      {
       "cell_index": 6
      }
     ]
    },
    "9724243eaf894eb19e26c3bc06407256": {
     "views": [
      {
       "cell_index": 6
      }
     ]
    },
    "9835e153b6914aa5b08a265888d2a34d": {
     "views": [
      {
       "cell_index": 6
      }
     ]
    },
    "9c7a5cf6398145b9a57e4f61ea86cac0": {
     "views": [
      {
       "cell_index": 6
      }
     ]
    },
    "9f29e55ff375410c904977940a2affe0": {
     "views": [
      {
       "cell_index": 6
      }
     ]
    },
    "9f36571761df4c38a77c309f05ca6558": {
     "views": [
      {
       "cell_index": 6
      }
     ]
    },
    "9fc23f2ebd224a77a5f4d85da82ec005": {
     "views": [
      {
       "cell_index": 6
      }
     ]
    },
    "a2f10935d2de4aae92058031c09af708": {
     "views": [
      {
       "cell_index": 6
      }
     ]
    },
    "a556b9081a024768854c7d711ed96cab": {
     "views": [
      {
       "cell_index": 6
      }
     ]
    },
    "a58d1469eebf471d8d4d56c40edc7a63": {
     "views": [
      {
       "cell_index": 6
      }
     ]
    },
    "a6e968a6d8d047279425365b7e75d0ca": {
     "views": [
      {
       "cell_index": 6
      }
     ]
    },
    "a78e07df504e4593a1d67246f8a025da": {
     "views": [
      {
       "cell_index": 6
      }
     ]
    },
    "a8ca849ca5214521b692087505cb616d": {
     "views": [
      {
       "cell_index": 6
      }
     ]
    },
    "adba2603acd6419d9e2ac0b522873688": {
     "views": [
      {
       "cell_index": 6
      }
     ]
    },
    "ae3f135444eb4326815561ee5db65be5": {
     "views": [
      {
       "cell_index": 6
      }
     ]
    },
    "af2216f0366d48e2b32556de0341eb8a": {
     "views": [
      {
       "cell_index": 5
      }
     ]
    },
    "b0c1bc52ee054252a061875b84402a72": {
     "views": [
      {
       "cell_index": 6
      }
     ]
    },
    "b4a986b6ee0446dd87e20b8b4761d7ee": {
     "views": [
      {
       "cell_index": 6
      }
     ]
    },
    "b6742fedfbc548ecbb9ff7c00739fc9a": {
     "views": [
      {
       "cell_index": 6
      }
     ]
    },
    "b7f13fd16fc7436597a2b5a10ef0ff69": {
     "views": [
      {
       "cell_index": 6
      }
     ]
    },
    "ba493a9ddbc4455fa4d3eeb84fe5e775": {
     "views": [
      {
       "cell_index": 6
      }
     ]
    },
    "baf370ea10e3496c83337e07cdb6dfb5": {
     "views": [
      {
       "cell_index": 6
      }
     ]
    },
    "bb892e8c80ed45f88ffcb366f2d5b531": {
     "views": [
      {
       "cell_index": 6
      }
     ]
    },
    "be8ed6f3d3f44b55912a516a3c2c3873": {
     "views": [
      {
       "cell_index": 6
      }
     ]
    },
    "c13e6955ce474ebbaf131e61445665bb": {
     "views": [
      {
       "cell_index": 6
      }
     ]
    },
    "c335e93fc4dc48cd90fa53371fc8a17a": {
     "views": [
      {
       "cell_index": 6
      }
     ]
    },
    "c36a85b9e26d42239d35feee2c0cf639": {
     "views": [
      {
       "cell_index": 6
      }
     ]
    },
    "c38e296a75d847ec873e244a15674022": {
     "views": [
      {
       "cell_index": 6
      }
     ]
    },
    "c5beb5d12c764cb8ab488c2a08988ebe": {
     "views": [
      {
       "cell_index": 6
      }
     ]
    },
    "c7f47b882a7f4186a8ce8a1a7f94b780": {
     "views": [
      {
       "cell_index": 6
      }
     ]
    },
    "c91d41d6c66f4c7899c20748eee134bc": {
     "views": [
      {
       "cell_index": 6
      }
     ]
    },
    "ca388d343a934428940b4e4b69c6870a": {
     "views": [
      {
       "cell_index": 6
      }
     ]
    },
    "d1260f0af73c4467a7d19fe0fea2cc03": {
     "views": [
      {
       "cell_index": 6
      }
     ]
    },
    "d3daca7617e743039c7a2f3022345cb5": {
     "views": [
      {
       "cell_index": 4
      }
     ]
    },
    "d4729abfde8d46ce807050c9733fd2b8": {
     "views": [
      {
       "cell_index": 6
      }
     ]
    },
    "d5988e39bc844a33884589605d9e6d32": {
     "views": [
      {
       "cell_index": 6
      }
     ]
    },
    "d5f2abc2250a4a7ab950fff9e9e32a45": {
     "views": [
      {
       "cell_index": 6
      }
     ]
    },
    "d71ae173a0cf4e8f9d01526a04b1bb0d": {
     "views": [
      {
       "cell_index": 6
      }
     ]
    },
    "d98952ff3f8d468c93e86b7bcb7cfc56": {
     "views": [
      {
       "cell_index": 6
      }
     ]
    },
    "db858db9ef5744dd95dccf2da9831e9f": {
     "views": [
      {
       "cell_index": 6
      }
     ]
    },
    "e0c4a78172f34196b6a57ce394485566": {
     "views": [
      {
       "cell_index": 6
      }
     ]
    },
    "e0e6eb7912e44cf3b321a08632c64993": {
     "views": [
      {
       "cell_index": 6
      }
     ]
    },
    "e117556f191349bcbba492b78e00742b": {
     "views": [
      {
       "cell_index": 6
      }
     ]
    },
    "e399659a0e344d6a8852b60d87311046": {
     "views": [
      {
       "cell_index": 6
      }
     ]
    },
    "e8979136ee894b219b01ca9b6513da0c": {
     "views": [
      {
       "cell_index": 6
      }
     ]
    },
    "e9eb3acadf644647a54719b088f00432": {
     "views": [
      {
       "cell_index": 6
      }
     ]
    },
    "ebfbbc5f77e745c49170fdf39eeafa5b": {
     "views": [
      {
       "cell_index": 6
      }
     ]
    },
    "ec41a3a0d2ba4e85802220e73ad07f39": {
     "views": [
      {
       "cell_index": 6
      }
     ]
    },
    "f3880b8e18fd4f0e80a67b40a52c3488": {
     "views": [
      {
       "cell_index": 6
      }
     ]
    },
    "f7e2f5a7d81245c9a9f82b1f5372eba3": {
     "views": [
      {
       "cell_index": 6
      }
     ]
    },
    "f894402c37c84f298546e041038277e0": {
     "views": [
      {
       "cell_index": 6
      }
     ]
    },
    "fa1d0daf92df4abf92056bf492809be5": {
     "views": [
      {
       "cell_index": 6
      }
     ]
    },
    "fc9e3b475dce4a03a9197825ee92cd42": {
     "views": [
      {
       "cell_index": 6
      }
     ]
    },
    "fd199985d4b74b7b8da54c1e1ccddb78": {
     "views": [
      {
       "cell_index": 6
      }
     ]
    }
   },
   "version": "1.2.0"
  }
 },
 "nbformat": 4,
 "nbformat_minor": 2
}
