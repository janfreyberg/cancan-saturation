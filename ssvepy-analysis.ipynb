{
 "cells": [
  {
   "cell_type": "code",
   "execution_count": 1,
   "metadata": {},
   "outputs": [
    {
     "name": "stderr",
     "output_type": "stream",
     "text": [
      "/Library/anaconda/envs/py36/lib/python3.6/site-packages/sklearn/cross_validation.py:44: DeprecationWarning: This module was deprecated in version 0.18 in favor of the model_selection module into which all the refactored classes and functions are moved. Also note that the interface of the new CV iterators are different from that of this module. This module will be removed in 0.20.\n",
      "  \"This module will be removed in 0.20.\", DeprecationWarning)\n"
     ]
    }
   ],
   "source": [
    "import mne\n",
    "\n",
    "import ssvepy\n",
    "\n",
    "from autoreject import Ransac\n",
    "\n",
    "import numpy as np\n",
    "import matplotlib.pyplot as plt\n",
    "\n",
    "import os\n",
    "import glob\n",
    "\n",
    "from tqdm import tqdm_notebook as tqdm\n",
    "from ipywidgets import interact\n",
    "\n",
    "mne.utils.set_log_level('WARNING')"
   ]
  },
  {
   "cell_type": "code",
   "execution_count": 2,
   "metadata": {
    "collapsed": true
   },
   "outputs": [],
   "source": [
    "if os.path.isdir('/Users/jan/Documents/eeg-data/cancan-saturation/'):\n",
    "    datafolder = '/Users/jan/Documents/eeg-data/cancan-saturation/'\n",
    "\n",
    "files = glob.glob(datafolder + '*saturation*.vhdr')"
   ]
  },
  {
   "cell_type": "code",
   "execution_count": 3,
   "metadata": {},
   "outputs": [],
   "source": [
    "raws = [mne.io.read_raw_brainvision(file, event_id={'DCC': 199, 'actiCAP Data On': 200},\n",
    "                                    montage=mne.channels.read_montage('standard_1020'))\n",
    "        for file in files]"
   ]
  },
  {
   "cell_type": "code",
   "execution_count": 4,
   "metadata": {},
   "outputs": [
    {
     "data": {
      "application/vnd.jupyter.widget-view+json": {
       "model_id": "7d31ee64f0bb4f2bb69ff61ee8030f3c"
      }
     },
     "metadata": {},
     "output_type": "display_data"
    },
    {
     "data": {
      "application/vnd.jupyter.widget-view+json": {
       "model_id": "f9bf9854811e456a837f0df12349f9c3"
      }
     },
     "metadata": {},
     "output_type": "display_data"
    },
    {
     "data": {
      "application/vnd.jupyter.widget-view+json": {
       "model_id": "fefee2eede584907885adfcc57450720"
      }
     },
     "metadata": {},
     "output_type": "display_data"
    },
    {
     "name": "stdout",
     "output_type": "stream",
     "text": [
      "\n"
     ]
    }
   ],
   "source": [
    "epochs = [[mne.Epochs(raw,\n",
    "                      mne.find_events(raw),\n",
    "                      event_id=event,\n",
    "                      tmin=0, tmax=10,\n",
    "                      picks=mne.pick_types(raw.info, eeg=True))\n",
    "           for event in tqdm([16, 32, 64, 100], desc='Events')]\n",
    "          for raw in tqdm(raws, desc='Subject')]"
   ]
  },
  {
   "cell_type": "code",
   "execution_count": 5,
   "metadata": {},
   "outputs": [
    {
     "data": {
      "application/vnd.jupyter.widget-view+json": {
       "model_id": "4d9fe0bad5314a24a2abf0b9fed3736f"
      }
     },
     "metadata": {},
     "output_type": "display_data"
    },
    {
     "name": "stdout",
     "output_type": "stream",
     "text": [
      "\n"
     ]
    }
   ],
   "source": [
    "for subject in tqdm(epochs):\n",
    "    for epoch in subject:\n",
    "        epoch.load_data()\n",
    "        epoch.resample(256)\n"
   ]
  },
  {
   "cell_type": "code",
   "execution_count": 6,
   "metadata": {},
   "outputs": [],
   "source": [
    "%%capture\n",
    "# Clean the data using autoreject's ransac\n",
    "cleaners = [Ransac(verbose='tqdm_notebook') for raw in raws]\n",
    "\n",
    "cleanepochs = [[cleaner.fit_transform(epoch) for epoch in epochlist]\n",
    "               for epochlist, cleaner in tqdm(zip(epochs, cleaners), desc='Subjects')]"
   ]
  },
  {
   "cell_type": "code",
   "execution_count": 7,
   "metadata": {},
   "outputs": [
    {
     "data": {
      "application/vnd.jupyter.widget-view+json": {
       "model_id": "f170d55e3b74497b8f03a2b2a0f2efc1"
      }
     },
     "metadata": {},
     "output_type": "display_data"
    },
    {
     "name": "stderr",
     "output_type": "stream",
     "text": [
      "/Users/jan/Dropbox/Documents/side-projects/ssvepy/ssvepy/ssvepyepochs.py:123: RuntimeWarning: invalid value encountered in true_divide\n",
      "  self.psd[..., noiseband].mean(axis=-1))\n"
     ]
    },
    {
     "name": "stdout",
     "output_type": "stream",
     "text": [
      "\n"
     ]
    }
   ],
   "source": [
    "ssveps = [[ssvepy.Ssvep(epoch, 5.0, fmin=2, fmax=30) for epoch in epochlist]\n",
    "           for epochlist in tqdm(cleanepochs)]"
   ]
  },
  {
   "cell_type": "code",
   "execution_count": 40,
   "metadata": {
    "scrolled": true
   },
   "outputs": [],
   "source": [
    "occipital_indices = [raws[0].ch_names.index(ch)\n",
    "                     for ch in ['Oz', 'O1', 'O2', 'POz']]\n",
    "\n",
    "# Aggregate the amp from the occ. electrode with max SNR\n",
    "maxoccamps = np.zeros((len(ssveps), len(ssveps[0])))\n",
    "for subject, ssveplist in enumerate(ssveps):\n",
    "    \n",
    "    for condition, ssvep in enumerate(ssveplist):\n",
    "        maxelec = np.argmax(ssvep.stimulation.snr[:, occipital_indices].mean(axis=0))\n",
    "        maxelec = occipital_indices[maxelec]\n",
    "        maxoccamps[subject, condition] = ssvep.stimulation.power[:, maxelec].mean()\n",
    "\n",
    "# Aggregate the amp from the electrode with overall max SNR\n",
    "maxamps = np.zeros((len(ssveps), len(ssveps[0])))\n",
    "for subject, ssveplist in enumerate(ssveps):\n",
    "    maxelec = np.nanargmax(\n",
    "        np.stack(\n",
    "            [ssvep.stimulation.snr.mean(axis=0) for ssvep in ssveplist], axis=-1\n",
    "        ).mean(axis=-1)\n",
    "    )\n",
    "    for condition, ssvep in enumerate(ssveplist):\n",
    "        maxamps[subject, condition] = ssvep.stimulation.power[:, maxelec].mean()\n"
   ]
  },
  {
   "cell_type": "code",
   "execution_count": 42,
   "metadata": {},
   "outputs": [
    {
     "data": {
      "text/plain": [
       "array([[  1.62349194e-09,   2.46147812e-09,   1.51611382e-09,\n",
       "          1.20297545e-09],\n",
       "       [  5.58086916e-09,   2.32801471e-09,   6.46108464e-09,\n",
       "          1.11646462e-09]])"
      ]
     },
     "execution_count": 42,
     "metadata": {},
     "output_type": "execute_result"
    }
   ],
   "source": [
    "maxoccamps"
   ]
  }
 ],
 "metadata": {
  "kernelspec": {
   "display_name": "Python 3",
   "language": "python",
   "name": "python3"
  },
  "language_info": {
   "codemirror_mode": {
    "name": "ipython",
    "version": 3
   },
   "file_extension": ".py",
   "mimetype": "text/x-python",
   "name": "python",
   "nbconvert_exporter": "python",
   "pygments_lexer": "ipython3",
   "version": "3.6.0"
  }
 },
 "nbformat": 4,
 "nbformat_minor": 2
}
